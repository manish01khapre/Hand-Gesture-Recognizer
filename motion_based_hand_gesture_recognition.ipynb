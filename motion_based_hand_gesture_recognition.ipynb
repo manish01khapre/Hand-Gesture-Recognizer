{
 "cells": [
  {
   "cell_type": "code",
   "execution_count": 1,
   "metadata": {},
   "outputs": [],
   "source": [
    "import numpy as np\n",
    "import pandas as pd\n",
    "import matplotlib.pyplot as plt\n",
    "import seaborn as sns\n",
    "from mpl_toolkits.mplot3d import axes3d\n",
    "import matplotlib.tri as tri"
   ]
  },
  {
   "cell_type": "code",
   "execution_count": 2,
   "metadata": {
    "scrolled": false
   },
   "outputs": [
    {
     "data": {
      "text/html": [
       "<div>\n",
       "<style scoped>\n",
       "    .dataframe tbody tr th:only-of-type {\n",
       "        vertical-align: middle;\n",
       "    }\n",
       "\n",
       "    .dataframe tbody tr th {\n",
       "        vertical-align: top;\n",
       "    }\n",
       "\n",
       "    .dataframe thead th {\n",
       "        text-align: right;\n",
       "    }\n",
       "</style>\n",
       "<table border=\"1\" class=\"dataframe\">\n",
       "  <thead>\n",
       "    <tr style=\"text-align: right;\">\n",
       "      <th></th>\n",
       "      <th>Class</th>\n",
       "      <th>User</th>\n",
       "      <th>X0</th>\n",
       "      <th>Y0</th>\n",
       "      <th>Z0</th>\n",
       "      <th>X1</th>\n",
       "      <th>Y1</th>\n",
       "      <th>Z1</th>\n",
       "      <th>X2</th>\n",
       "      <th>Y2</th>\n",
       "      <th>...</th>\n",
       "      <th>Z8</th>\n",
       "      <th>X9</th>\n",
       "      <th>Y9</th>\n",
       "      <th>Z9</th>\n",
       "      <th>X10</th>\n",
       "      <th>Y10</th>\n",
       "      <th>Z10</th>\n",
       "      <th>X11</th>\n",
       "      <th>Y11</th>\n",
       "      <th>Z11</th>\n",
       "    </tr>\n",
       "  </thead>\n",
       "  <tbody>\n",
       "    <tr>\n",
       "      <th>0</th>\n",
       "      <td>0</td>\n",
       "      <td>0</td>\n",
       "      <td>0.000000</td>\n",
       "      <td>0.000000</td>\n",
       "      <td>0.000000</td>\n",
       "      <td>0.000000</td>\n",
       "      <td>0.000000</td>\n",
       "      <td>0.000000</td>\n",
       "      <td>0.000000</td>\n",
       "      <td>0.000000</td>\n",
       "      <td>...</td>\n",
       "      <td>0</td>\n",
       "      <td>0</td>\n",
       "      <td>0</td>\n",
       "      <td>0</td>\n",
       "      <td>0</td>\n",
       "      <td>0</td>\n",
       "      <td>0</td>\n",
       "      <td>0</td>\n",
       "      <td>0</td>\n",
       "      <td>0</td>\n",
       "    </tr>\n",
       "    <tr>\n",
       "      <th>1</th>\n",
       "      <td>1</td>\n",
       "      <td>0</td>\n",
       "      <td>54.263880</td>\n",
       "      <td>71.466776</td>\n",
       "      <td>-64.807709</td>\n",
       "      <td>76.895635</td>\n",
       "      <td>42.462500</td>\n",
       "      <td>-72.780545</td>\n",
       "      <td>36.621229</td>\n",
       "      <td>81.680557</td>\n",
       "      <td>...</td>\n",
       "      <td>?</td>\n",
       "      <td>?</td>\n",
       "      <td>?</td>\n",
       "      <td>?</td>\n",
       "      <td>?</td>\n",
       "      <td>?</td>\n",
       "      <td>?</td>\n",
       "      <td>?</td>\n",
       "      <td>?</td>\n",
       "      <td>?</td>\n",
       "    </tr>\n",
       "    <tr>\n",
       "      <th>2</th>\n",
       "      <td>1</td>\n",
       "      <td>0</td>\n",
       "      <td>56.527558</td>\n",
       "      <td>72.266609</td>\n",
       "      <td>-61.935252</td>\n",
       "      <td>39.135978</td>\n",
       "      <td>82.538530</td>\n",
       "      <td>-49.596509</td>\n",
       "      <td>79.223743</td>\n",
       "      <td>43.254091</td>\n",
       "      <td>...</td>\n",
       "      <td>?</td>\n",
       "      <td>?</td>\n",
       "      <td>?</td>\n",
       "      <td>?</td>\n",
       "      <td>?</td>\n",
       "      <td>?</td>\n",
       "      <td>?</td>\n",
       "      <td>?</td>\n",
       "      <td>?</td>\n",
       "      <td>?</td>\n",
       "    </tr>\n",
       "    <tr>\n",
       "      <th>3</th>\n",
       "      <td>1</td>\n",
       "      <td>0</td>\n",
       "      <td>55.849928</td>\n",
       "      <td>72.469064</td>\n",
       "      <td>-62.562788</td>\n",
       "      <td>37.988804</td>\n",
       "      <td>82.631347</td>\n",
       "      <td>-50.606259</td>\n",
       "      <td>78.451526</td>\n",
       "      <td>43.567403</td>\n",
       "      <td>...</td>\n",
       "      <td>?</td>\n",
       "      <td>?</td>\n",
       "      <td>?</td>\n",
       "      <td>?</td>\n",
       "      <td>?</td>\n",
       "      <td>?</td>\n",
       "      <td>?</td>\n",
       "      <td>?</td>\n",
       "      <td>?</td>\n",
       "      <td>?</td>\n",
       "    </tr>\n",
       "    <tr>\n",
       "      <th>4</th>\n",
       "      <td>1</td>\n",
       "      <td>0</td>\n",
       "      <td>55.329647</td>\n",
       "      <td>71.707275</td>\n",
       "      <td>-63.688956</td>\n",
       "      <td>36.561863</td>\n",
       "      <td>81.868749</td>\n",
       "      <td>-52.752784</td>\n",
       "      <td>86.320630</td>\n",
       "      <td>68.214645</td>\n",
       "      <td>...</td>\n",
       "      <td>?</td>\n",
       "      <td>?</td>\n",
       "      <td>?</td>\n",
       "      <td>?</td>\n",
       "      <td>?</td>\n",
       "      <td>?</td>\n",
       "      <td>?</td>\n",
       "      <td>?</td>\n",
       "      <td>?</td>\n",
       "      <td>?</td>\n",
       "    </tr>\n",
       "  </tbody>\n",
       "</table>\n",
       "<p>5 rows × 38 columns</p>\n",
       "</div>"
      ],
      "text/plain": [
       "   Class  User         X0         Y0         Z0         X1         Y1  \\\n",
       "0      0     0   0.000000   0.000000   0.000000   0.000000   0.000000   \n",
       "1      1     0  54.263880  71.466776 -64.807709  76.895635  42.462500   \n",
       "2      1     0  56.527558  72.266609 -61.935252  39.135978  82.538530   \n",
       "3      1     0  55.849928  72.469064 -62.562788  37.988804  82.631347   \n",
       "4      1     0  55.329647  71.707275 -63.688956  36.561863  81.868749   \n",
       "\n",
       "          Z1         X2         Y2  ...  Z8 X9 Y9 Z9 X10 Y10 Z10 X11 Y11 Z11  \n",
       "0   0.000000   0.000000   0.000000  ...   0  0  0  0   0   0   0   0   0   0  \n",
       "1 -72.780545  36.621229  81.680557  ...   ?  ?  ?  ?   ?   ?   ?   ?   ?   ?  \n",
       "2 -49.596509  79.223743  43.254091  ...   ?  ?  ?  ?   ?   ?   ?   ?   ?   ?  \n",
       "3 -50.606259  78.451526  43.567403  ...   ?  ?  ?  ?   ?   ?   ?   ?   ?   ?  \n",
       "4 -52.752784  86.320630  68.214645  ...   ?  ?  ?  ?   ?   ?   ?   ?   ?   ?  \n",
       "\n",
       "[5 rows x 38 columns]"
      ]
     },
     "execution_count": 2,
     "metadata": {},
     "output_type": "execute_result"
    }
   ],
   "source": [
    "df = pd.read_csv('Postures.csv')\n",
    "df.head()"
   ]
  },
  {
   "cell_type": "code",
   "execution_count": 3,
   "metadata": {},
   "outputs": [
    {
     "data": {
      "text/html": [
       "<div>\n",
       "<style scoped>\n",
       "    .dataframe tbody tr th:only-of-type {\n",
       "        vertical-align: middle;\n",
       "    }\n",
       "\n",
       "    .dataframe tbody tr th {\n",
       "        vertical-align: top;\n",
       "    }\n",
       "\n",
       "    .dataframe thead th {\n",
       "        text-align: right;\n",
       "    }\n",
       "</style>\n",
       "<table border=\"1\" class=\"dataframe\">\n",
       "  <thead>\n",
       "    <tr style=\"text-align: right;\">\n",
       "      <th></th>\n",
       "      <th>Class</th>\n",
       "      <th>User</th>\n",
       "      <th>X0</th>\n",
       "      <th>Y0</th>\n",
       "      <th>Z0</th>\n",
       "      <th>X1</th>\n",
       "      <th>Y1</th>\n",
       "      <th>Z1</th>\n",
       "      <th>X2</th>\n",
       "      <th>Y2</th>\n",
       "      <th>...</th>\n",
       "      <th>Z8</th>\n",
       "      <th>X9</th>\n",
       "      <th>Y9</th>\n",
       "      <th>Z9</th>\n",
       "      <th>X10</th>\n",
       "      <th>Y10</th>\n",
       "      <th>Z10</th>\n",
       "      <th>X11</th>\n",
       "      <th>Y11</th>\n",
       "      <th>Z11</th>\n",
       "    </tr>\n",
       "  </thead>\n",
       "  <tbody>\n",
       "    <tr>\n",
       "      <th>78091</th>\n",
       "      <td>5</td>\n",
       "      <td>14</td>\n",
       "      <td>54.251127</td>\n",
       "      <td>129.177414</td>\n",
       "      <td>-44.252511</td>\n",
       "      <td>27.720784</td>\n",
       "      <td>107.810661</td>\n",
       "      <td>11.099282</td>\n",
       "      <td>-1.270139</td>\n",
       "      <td>122.758679</td>\n",
       "      <td>...</td>\n",
       "      <td>-6.54311453354464</td>\n",
       "      <td>87.7333643096221</td>\n",
       "      <td>61.2163626180662</td>\n",
       "      <td>-62.1262783028233</td>\n",
       "      <td>?</td>\n",
       "      <td>?</td>\n",
       "      <td>?</td>\n",
       "      <td>?</td>\n",
       "      <td>?</td>\n",
       "      <td>?</td>\n",
       "    </tr>\n",
       "    <tr>\n",
       "      <th>78092</th>\n",
       "      <td>5</td>\n",
       "      <td>14</td>\n",
       "      <td>54.334883</td>\n",
       "      <td>129.253842</td>\n",
       "      <td>-44.016320</td>\n",
       "      <td>27.767911</td>\n",
       "      <td>107.914808</td>\n",
       "      <td>11.069842</td>\n",
       "      <td>-30.334054</td>\n",
       "      <td>77.858214</td>\n",
       "      <td>...</td>\n",
       "      <td>-62.1305625712145</td>\n",
       "      <td>78.2298473919132</td>\n",
       "      <td>33.0784071753174</td>\n",
       "      <td>-45.2495433686171</td>\n",
       "      <td>?</td>\n",
       "      <td>?</td>\n",
       "      <td>?</td>\n",
       "      <td>?</td>\n",
       "      <td>?</td>\n",
       "      <td>?</td>\n",
       "    </tr>\n",
       "    <tr>\n",
       "      <th>78093</th>\n",
       "      <td>5</td>\n",
       "      <td>14</td>\n",
       "      <td>54.151540</td>\n",
       "      <td>129.269502</td>\n",
       "      <td>-44.173273</td>\n",
       "      <td>27.725978</td>\n",
       "      <td>108.034006</td>\n",
       "      <td>11.020347</td>\n",
       "      <td>-22.574718</td>\n",
       "      <td>104.222208</td>\n",
       "      <td>...</td>\n",
       "      <td>3.83590370588782</td>\n",
       "      <td>78.591554010542</td>\n",
       "      <td>32.32773753847</td>\n",
       "      <td>-46.1665560916632</td>\n",
       "      <td>?</td>\n",
       "      <td>?</td>\n",
       "      <td>?</td>\n",
       "      <td>?</td>\n",
       "      <td>?</td>\n",
       "      <td>?</td>\n",
       "    </tr>\n",
       "    <tr>\n",
       "      <th>78094</th>\n",
       "      <td>5</td>\n",
       "      <td>14</td>\n",
       "      <td>27.915311</td>\n",
       "      <td>108.007390</td>\n",
       "      <td>10.814957</td>\n",
       "      <td>-0.910435</td>\n",
       "      <td>122.464093</td>\n",
       "      <td>-47.271248</td>\n",
       "      <td>-30.084588</td>\n",
       "      <td>77.705861</td>\n",
       "      <td>...</td>\n",
       "      <td>-63.2216259324485</td>\n",
       "      <td>?</td>\n",
       "      <td>?</td>\n",
       "      <td>?</td>\n",
       "      <td>?</td>\n",
       "      <td>?</td>\n",
       "      <td>?</td>\n",
       "      <td>?</td>\n",
       "      <td>?</td>\n",
       "      <td>?</td>\n",
       "    </tr>\n",
       "    <tr>\n",
       "      <th>78095</th>\n",
       "      <td>5</td>\n",
       "      <td>14</td>\n",
       "      <td>27.898705</td>\n",
       "      <td>108.092877</td>\n",
       "      <td>11.107857</td>\n",
       "      <td>-30.031402</td>\n",
       "      <td>77.740235</td>\n",
       "      <td>-17.453099</td>\n",
       "      <td>-1.091566</td>\n",
       "      <td>122.827638</td>\n",
       "      <td>...</td>\n",
       "      <td>-63.0265744155222</td>\n",
       "      <td>78.8796525666014</td>\n",
       "      <td>31.6030997578398</td>\n",
       "      <td>-47.0137357205196</td>\n",
       "      <td>?</td>\n",
       "      <td>?</td>\n",
       "      <td>?</td>\n",
       "      <td>?</td>\n",
       "      <td>?</td>\n",
       "      <td>?</td>\n",
       "    </tr>\n",
       "  </tbody>\n",
       "</table>\n",
       "<p>5 rows × 38 columns</p>\n",
       "</div>"
      ],
      "text/plain": [
       "       Class  User         X0          Y0         Z0         X1          Y1  \\\n",
       "78091      5    14  54.251127  129.177414 -44.252511  27.720784  107.810661   \n",
       "78092      5    14  54.334883  129.253842 -44.016320  27.767911  107.914808   \n",
       "78093      5    14  54.151540  129.269502 -44.173273  27.725978  108.034006   \n",
       "78094      5    14  27.915311  108.007390  10.814957  -0.910435  122.464093   \n",
       "78095      5    14  27.898705  108.092877  11.107857 -30.031402   77.740235   \n",
       "\n",
       "              Z1         X2          Y2  ...                 Z8  \\\n",
       "78091  11.099282  -1.270139  122.758679  ...  -6.54311453354464   \n",
       "78092  11.069842 -30.334054   77.858214  ...  -62.1305625712145   \n",
       "78093  11.020347 -22.574718  104.222208  ...   3.83590370588782   \n",
       "78094 -47.271248 -30.084588   77.705861  ...  -63.2216259324485   \n",
       "78095 -17.453099  -1.091566  122.827638  ...  -63.0265744155222   \n",
       "\n",
       "                     X9                Y9                 Z9 X10 Y10 Z10 X11  \\\n",
       "78091  87.7333643096221  61.2163626180662  -62.1262783028233   ?   ?   ?   ?   \n",
       "78092  78.2298473919132  33.0784071753174  -45.2495433686171   ?   ?   ?   ?   \n",
       "78093   78.591554010542    32.32773753847  -46.1665560916632   ?   ?   ?   ?   \n",
       "78094                 ?                 ?                  ?   ?   ?   ?   ?   \n",
       "78095  78.8796525666014  31.6030997578398  -47.0137357205196   ?   ?   ?   ?   \n",
       "\n",
       "      Y11 Z11  \n",
       "78091   ?   ?  \n",
       "78092   ?   ?  \n",
       "78093   ?   ?  \n",
       "78094   ?   ?  \n",
       "78095   ?   ?  \n",
       "\n",
       "[5 rows x 38 columns]"
      ]
     },
     "execution_count": 3,
     "metadata": {},
     "output_type": "execute_result"
    }
   ],
   "source": [
    "df.tail()"
   ]
  },
  {
   "cell_type": "code",
   "execution_count": 4,
   "metadata": {},
   "outputs": [
    {
     "data": {
      "text/plain": [
       "(78096, 38)"
      ]
     },
     "execution_count": 4,
     "metadata": {},
     "output_type": "execute_result"
    }
   ],
   "source": [
    "df.shape"
   ]
  },
  {
   "cell_type": "code",
   "execution_count": 5,
   "metadata": {},
   "outputs": [
    {
     "data": {
      "text/plain": [
       "2967648"
      ]
     },
     "execution_count": 5,
     "metadata": {},
     "output_type": "execute_result"
    }
   ],
   "source": [
    "df.size"
   ]
  },
  {
   "cell_type": "code",
   "execution_count": 6,
   "metadata": {
    "scrolled": false
   },
   "outputs": [
    {
     "data": {
      "text/plain": [
       "Index(['Class', 'User', 'X0', 'Y0', 'Z0', 'X1', 'Y1', 'Z1', 'X2', 'Y2', 'Z2',\n",
       "       'X3', 'Y3', 'Z3', 'X4', 'Y4', 'Z4', 'X5', 'Y5', 'Z5', 'X6', 'Y6', 'Z6',\n",
       "       'X7', 'Y7', 'Z7', 'X8', 'Y8', 'Z8', 'X9', 'Y9', 'Z9', 'X10', 'Y10',\n",
       "       'Z10', 'X11', 'Y11', 'Z11'],\n",
       "      dtype='object')"
      ]
     },
     "execution_count": 6,
     "metadata": {},
     "output_type": "execute_result"
    }
   ],
   "source": [
    "df.columns"
   ]
  },
  {
   "cell_type": "code",
   "execution_count": 7,
   "metadata": {},
   "outputs": [
    {
     "data": {
      "text/plain": [
       "14"
      ]
     },
     "execution_count": 7,
     "metadata": {},
     "output_type": "execute_result"
    }
   ],
   "source": [
    "df['User'].nunique()"
   ]
  },
  {
   "cell_type": "code",
   "execution_count": 8,
   "metadata": {
    "scrolled": false
   },
   "outputs": [
    {
     "name": "stdout",
     "output_type": "stream",
     "text": [
      "<class 'pandas.core.frame.DataFrame'>\n",
      "RangeIndex: 78096 entries, 0 to 78095\n",
      "Data columns (total 38 columns):\n",
      "Class    78096 non-null int64\n",
      "User     78096 non-null int64\n",
      "X0       78096 non-null float64\n",
      "Y0       78096 non-null float64\n",
      "Z0       78096 non-null float64\n",
      "X1       78096 non-null float64\n",
      "Y1       78096 non-null float64\n",
      "Z1       78096 non-null float64\n",
      "X2       78096 non-null float64\n",
      "Y2       78096 non-null float64\n",
      "Z2       78096 non-null float64\n",
      "X3       78096 non-null object\n",
      "Y3       78096 non-null object\n",
      "Z3       78096 non-null object\n",
      "X4       78096 non-null object\n",
      "Y4       78096 non-null object\n",
      "Z4       78096 non-null object\n",
      "X5       78096 non-null object\n",
      "Y5       78096 non-null object\n",
      "Z5       78096 non-null object\n",
      "X6       78096 non-null object\n",
      "Y6       78096 non-null object\n",
      "Z6       78096 non-null object\n",
      "X7       78096 non-null object\n",
      "Y7       78096 non-null object\n",
      "Z7       78096 non-null object\n",
      "X8       78096 non-null object\n",
      "Y8       78096 non-null object\n",
      "Z8       78096 non-null object\n",
      "X9       78096 non-null object\n",
      "Y9       78096 non-null object\n",
      "Z9       78096 non-null object\n",
      "X10      78096 non-null object\n",
      "Y10      78096 non-null object\n",
      "Z10      78096 non-null object\n",
      "X11      78096 non-null object\n",
      "Y11      78096 non-null object\n",
      "Z11      78096 non-null object\n",
      "dtypes: float64(9), int64(2), object(27)\n",
      "memory usage: 22.6+ MB\n"
     ]
    }
   ],
   "source": [
    "df.info()"
   ]
  },
  {
   "cell_type": "code",
   "execution_count": 9,
   "metadata": {
    "scrolled": true
   },
   "outputs": [
    {
     "data": {
      "text/html": [
       "<div>\n",
       "<style scoped>\n",
       "    .dataframe tbody tr th:only-of-type {\n",
       "        vertical-align: middle;\n",
       "    }\n",
       "\n",
       "    .dataframe tbody tr th {\n",
       "        vertical-align: top;\n",
       "    }\n",
       "\n",
       "    .dataframe thead th {\n",
       "        text-align: right;\n",
       "    }\n",
       "</style>\n",
       "<table border=\"1\" class=\"dataframe\">\n",
       "  <thead>\n",
       "    <tr style=\"text-align: right;\">\n",
       "      <th></th>\n",
       "      <th>count</th>\n",
       "      <th>mean</th>\n",
       "      <th>std</th>\n",
       "      <th>min</th>\n",
       "      <th>25%</th>\n",
       "      <th>50%</th>\n",
       "      <th>75%</th>\n",
       "      <th>max</th>\n",
       "    </tr>\n",
       "  </thead>\n",
       "  <tbody>\n",
       "    <tr>\n",
       "      <th>Class</th>\n",
       "      <td>78096.0</td>\n",
       "      <td>2.983738</td>\n",
       "      <td>1.421183</td>\n",
       "      <td>0.000000</td>\n",
       "      <td>2.000000</td>\n",
       "      <td>3.000000</td>\n",
       "      <td>4.000000</td>\n",
       "      <td>5.000000</td>\n",
       "    </tr>\n",
       "    <tr>\n",
       "      <th>User</th>\n",
       "      <td>78096.0</td>\n",
       "      <td>7.959127</td>\n",
       "      <td>4.697810</td>\n",
       "      <td>0.000000</td>\n",
       "      <td>5.000000</td>\n",
       "      <td>9.000000</td>\n",
       "      <td>12.000000</td>\n",
       "      <td>14.000000</td>\n",
       "    </tr>\n",
       "    <tr>\n",
       "      <th>X0</th>\n",
       "      <td>78096.0</td>\n",
       "      <td>50.345664</td>\n",
       "      <td>32.696173</td>\n",
       "      <td>-108.552738</td>\n",
       "      <td>29.295062</td>\n",
       "      <td>54.619964</td>\n",
       "      <td>72.488686</td>\n",
       "      <td>190.017835</td>\n",
       "    </tr>\n",
       "    <tr>\n",
       "      <th>Y0</th>\n",
       "      <td>78096.0</td>\n",
       "      <td>85.812051</td>\n",
       "      <td>40.204363</td>\n",
       "      <td>-98.233756</td>\n",
       "      <td>63.494432</td>\n",
       "      <td>86.526246</td>\n",
       "      <td>113.107355</td>\n",
       "      <td>169.175464</td>\n",
       "    </tr>\n",
       "    <tr>\n",
       "      <th>Z0</th>\n",
       "      <td>78096.0</td>\n",
       "      <td>-29.984712</td>\n",
       "      <td>34.361918</td>\n",
       "      <td>-126.770872</td>\n",
       "      <td>-56.356438</td>\n",
       "      <td>-30.864125</td>\n",
       "      <td>-1.418803</td>\n",
       "      <td>113.345119</td>\n",
       "    </tr>\n",
       "    <tr>\n",
       "      <th>X1</th>\n",
       "      <td>78096.0</td>\n",
       "      <td>49.595209</td>\n",
       "      <td>32.478238</td>\n",
       "      <td>-111.685241</td>\n",
       "      <td>28.755137</td>\n",
       "      <td>54.215514</td>\n",
       "      <td>71.762039</td>\n",
       "      <td>188.691997</td>\n",
       "    </tr>\n",
       "    <tr>\n",
       "      <th>Y1</th>\n",
       "      <td>78096.0</td>\n",
       "      <td>86.192647</td>\n",
       "      <td>40.453214</td>\n",
       "      <td>-96.142589</td>\n",
       "      <td>64.154529</td>\n",
       "      <td>87.542751</td>\n",
       "      <td>116.219398</td>\n",
       "      <td>170.209350</td>\n",
       "    </tr>\n",
       "    <tr>\n",
       "      <th>Z1</th>\n",
       "      <td>78096.0</td>\n",
       "      <td>-29.509202</td>\n",
       "      <td>34.764398</td>\n",
       "      <td>-166.006838</td>\n",
       "      <td>-57.360107</td>\n",
       "      <td>-30.184005</td>\n",
       "      <td>-0.366692</td>\n",
       "      <td>104.697852</td>\n",
       "    </tr>\n",
       "    <tr>\n",
       "      <th>X2</th>\n",
       "      <td>78096.0</td>\n",
       "      <td>48.612121</td>\n",
       "      <td>33.605390</td>\n",
       "      <td>-106.886524</td>\n",
       "      <td>25.170006</td>\n",
       "      <td>53.814580</td>\n",
       "      <td>71.561951</td>\n",
       "      <td>188.760168</td>\n",
       "    </tr>\n",
       "    <tr>\n",
       "      <th>Y2</th>\n",
       "      <td>78096.0</td>\n",
       "      <td>83.771315</td>\n",
       "      <td>41.023543</td>\n",
       "      <td>-100.789312</td>\n",
       "      <td>58.052385</td>\n",
       "      <td>86.458324</td>\n",
       "      <td>106.660827</td>\n",
       "      <td>168.186466</td>\n",
       "    </tr>\n",
       "    <tr>\n",
       "      <th>Z2</th>\n",
       "      <td>78096.0</td>\n",
       "      <td>-30.560515</td>\n",
       "      <td>35.120329</td>\n",
       "      <td>-129.595296</td>\n",
       "      <td>-58.654059</td>\n",
       "      <td>-32.352414</td>\n",
       "      <td>-0.944786</td>\n",
       "      <td>104.590879</td>\n",
       "    </tr>\n",
       "  </tbody>\n",
       "</table>\n",
       "</div>"
      ],
      "text/plain": [
       "         count       mean        std         min        25%        50%  \\\n",
       "Class  78096.0   2.983738   1.421183    0.000000   2.000000   3.000000   \n",
       "User   78096.0   7.959127   4.697810    0.000000   5.000000   9.000000   \n",
       "X0     78096.0  50.345664  32.696173 -108.552738  29.295062  54.619964   \n",
       "Y0     78096.0  85.812051  40.204363  -98.233756  63.494432  86.526246   \n",
       "Z0     78096.0 -29.984712  34.361918 -126.770872 -56.356438 -30.864125   \n",
       "X1     78096.0  49.595209  32.478238 -111.685241  28.755137  54.215514   \n",
       "Y1     78096.0  86.192647  40.453214  -96.142589  64.154529  87.542751   \n",
       "Z1     78096.0 -29.509202  34.764398 -166.006838 -57.360107 -30.184005   \n",
       "X2     78096.0  48.612121  33.605390 -106.886524  25.170006  53.814580   \n",
       "Y2     78096.0  83.771315  41.023543 -100.789312  58.052385  86.458324   \n",
       "Z2     78096.0 -30.560515  35.120329 -129.595296 -58.654059 -32.352414   \n",
       "\n",
       "              75%         max  \n",
       "Class    4.000000    5.000000  \n",
       "User    12.000000   14.000000  \n",
       "X0      72.488686  190.017835  \n",
       "Y0     113.107355  169.175464  \n",
       "Z0      -1.418803  113.345119  \n",
       "X1      71.762039  188.691997  \n",
       "Y1     116.219398  170.209350  \n",
       "Z1      -0.366692  104.697852  \n",
       "X2      71.561951  188.760168  \n",
       "Y2     106.660827  168.186466  \n",
       "Z2      -0.944786  104.590879  "
      ]
     },
     "execution_count": 9,
     "metadata": {},
     "output_type": "execute_result"
    }
   ],
   "source": [
    "df.describe().T"
   ]
  },
  {
   "cell_type": "markdown",
   "metadata": {},
   "source": [
    "#### Replacing '?' sign with null values"
   ]
  },
  {
   "cell_type": "code",
   "execution_count": 10,
   "metadata": {},
   "outputs": [],
   "source": [
    "df.replace({'?':np.nan},inplace=True)"
   ]
  },
  {
   "cell_type": "code",
   "execution_count": 11,
   "metadata": {
    "scrolled": true
   },
   "outputs": [
    {
     "data": {
      "text/html": [
       "<div>\n",
       "<style scoped>\n",
       "    .dataframe tbody tr th:only-of-type {\n",
       "        vertical-align: middle;\n",
       "    }\n",
       "\n",
       "    .dataframe tbody tr th {\n",
       "        vertical-align: top;\n",
       "    }\n",
       "\n",
       "    .dataframe thead th {\n",
       "        text-align: right;\n",
       "    }\n",
       "</style>\n",
       "<table border=\"1\" class=\"dataframe\">\n",
       "  <thead>\n",
       "    <tr style=\"text-align: right;\">\n",
       "      <th></th>\n",
       "      <th>Class</th>\n",
       "      <th>User</th>\n",
       "      <th>X0</th>\n",
       "      <th>Y0</th>\n",
       "      <th>Z0</th>\n",
       "      <th>X1</th>\n",
       "      <th>Y1</th>\n",
       "      <th>Z1</th>\n",
       "      <th>X2</th>\n",
       "      <th>Y2</th>\n",
       "      <th>...</th>\n",
       "      <th>Z8</th>\n",
       "      <th>X9</th>\n",
       "      <th>Y9</th>\n",
       "      <th>Z9</th>\n",
       "      <th>X10</th>\n",
       "      <th>Y10</th>\n",
       "      <th>Z10</th>\n",
       "      <th>X11</th>\n",
       "      <th>Y11</th>\n",
       "      <th>Z11</th>\n",
       "    </tr>\n",
       "  </thead>\n",
       "  <tbody>\n",
       "    <tr>\n",
       "      <th>0</th>\n",
       "      <td>0</td>\n",
       "      <td>0</td>\n",
       "      <td>0.000000</td>\n",
       "      <td>0.000000</td>\n",
       "      <td>0.000000</td>\n",
       "      <td>0.000000</td>\n",
       "      <td>0.000000</td>\n",
       "      <td>0.000000</td>\n",
       "      <td>0.000000</td>\n",
       "      <td>0.000000</td>\n",
       "      <td>...</td>\n",
       "      <td>0</td>\n",
       "      <td>0</td>\n",
       "      <td>0</td>\n",
       "      <td>0</td>\n",
       "      <td>0</td>\n",
       "      <td>0</td>\n",
       "      <td>0</td>\n",
       "      <td>0</td>\n",
       "      <td>0</td>\n",
       "      <td>0</td>\n",
       "    </tr>\n",
       "    <tr>\n",
       "      <th>1</th>\n",
       "      <td>1</td>\n",
       "      <td>0</td>\n",
       "      <td>54.263880</td>\n",
       "      <td>71.466776</td>\n",
       "      <td>-64.807709</td>\n",
       "      <td>76.895635</td>\n",
       "      <td>42.462500</td>\n",
       "      <td>-72.780545</td>\n",
       "      <td>36.621229</td>\n",
       "      <td>81.680557</td>\n",
       "      <td>...</td>\n",
       "      <td>NaN</td>\n",
       "      <td>NaN</td>\n",
       "      <td>NaN</td>\n",
       "      <td>NaN</td>\n",
       "      <td>NaN</td>\n",
       "      <td>NaN</td>\n",
       "      <td>NaN</td>\n",
       "      <td>NaN</td>\n",
       "      <td>NaN</td>\n",
       "      <td>NaN</td>\n",
       "    </tr>\n",
       "    <tr>\n",
       "      <th>2</th>\n",
       "      <td>1</td>\n",
       "      <td>0</td>\n",
       "      <td>56.527558</td>\n",
       "      <td>72.266609</td>\n",
       "      <td>-61.935252</td>\n",
       "      <td>39.135978</td>\n",
       "      <td>82.538530</td>\n",
       "      <td>-49.596509</td>\n",
       "      <td>79.223743</td>\n",
       "      <td>43.254091</td>\n",
       "      <td>...</td>\n",
       "      <td>NaN</td>\n",
       "      <td>NaN</td>\n",
       "      <td>NaN</td>\n",
       "      <td>NaN</td>\n",
       "      <td>NaN</td>\n",
       "      <td>NaN</td>\n",
       "      <td>NaN</td>\n",
       "      <td>NaN</td>\n",
       "      <td>NaN</td>\n",
       "      <td>NaN</td>\n",
       "    </tr>\n",
       "    <tr>\n",
       "      <th>3</th>\n",
       "      <td>1</td>\n",
       "      <td>0</td>\n",
       "      <td>55.849928</td>\n",
       "      <td>72.469064</td>\n",
       "      <td>-62.562788</td>\n",
       "      <td>37.988804</td>\n",
       "      <td>82.631347</td>\n",
       "      <td>-50.606259</td>\n",
       "      <td>78.451526</td>\n",
       "      <td>43.567403</td>\n",
       "      <td>...</td>\n",
       "      <td>NaN</td>\n",
       "      <td>NaN</td>\n",
       "      <td>NaN</td>\n",
       "      <td>NaN</td>\n",
       "      <td>NaN</td>\n",
       "      <td>NaN</td>\n",
       "      <td>NaN</td>\n",
       "      <td>NaN</td>\n",
       "      <td>NaN</td>\n",
       "      <td>NaN</td>\n",
       "    </tr>\n",
       "    <tr>\n",
       "      <th>4</th>\n",
       "      <td>1</td>\n",
       "      <td>0</td>\n",
       "      <td>55.329647</td>\n",
       "      <td>71.707275</td>\n",
       "      <td>-63.688956</td>\n",
       "      <td>36.561863</td>\n",
       "      <td>81.868749</td>\n",
       "      <td>-52.752784</td>\n",
       "      <td>86.320630</td>\n",
       "      <td>68.214645</td>\n",
       "      <td>...</td>\n",
       "      <td>NaN</td>\n",
       "      <td>NaN</td>\n",
       "      <td>NaN</td>\n",
       "      <td>NaN</td>\n",
       "      <td>NaN</td>\n",
       "      <td>NaN</td>\n",
       "      <td>NaN</td>\n",
       "      <td>NaN</td>\n",
       "      <td>NaN</td>\n",
       "      <td>NaN</td>\n",
       "    </tr>\n",
       "  </tbody>\n",
       "</table>\n",
       "<p>5 rows × 38 columns</p>\n",
       "</div>"
      ],
      "text/plain": [
       "   Class  User         X0         Y0         Z0         X1         Y1  \\\n",
       "0      0     0   0.000000   0.000000   0.000000   0.000000   0.000000   \n",
       "1      1     0  54.263880  71.466776 -64.807709  76.895635  42.462500   \n",
       "2      1     0  56.527558  72.266609 -61.935252  39.135978  82.538530   \n",
       "3      1     0  55.849928  72.469064 -62.562788  37.988804  82.631347   \n",
       "4      1     0  55.329647  71.707275 -63.688956  36.561863  81.868749   \n",
       "\n",
       "          Z1         X2         Y2  ...   Z8   X9   Y9   Z9  X10  Y10  Z10  \\\n",
       "0   0.000000   0.000000   0.000000  ...    0    0    0    0    0    0    0   \n",
       "1 -72.780545  36.621229  81.680557  ...  NaN  NaN  NaN  NaN  NaN  NaN  NaN   \n",
       "2 -49.596509  79.223743  43.254091  ...  NaN  NaN  NaN  NaN  NaN  NaN  NaN   \n",
       "3 -50.606259  78.451526  43.567403  ...  NaN  NaN  NaN  NaN  NaN  NaN  NaN   \n",
       "4 -52.752784  86.320630  68.214645  ...  NaN  NaN  NaN  NaN  NaN  NaN  NaN   \n",
       "\n",
       "   X11  Y11  Z11  \n",
       "0    0    0    0  \n",
       "1  NaN  NaN  NaN  \n",
       "2  NaN  NaN  NaN  \n",
       "3  NaN  NaN  NaN  \n",
       "4  NaN  NaN  NaN  \n",
       "\n",
       "[5 rows x 38 columns]"
      ]
     },
     "execution_count": 11,
     "metadata": {},
     "output_type": "execute_result"
    }
   ],
   "source": [
    "df.head()"
   ]
  },
  {
   "cell_type": "code",
   "execution_count": 12,
   "metadata": {},
   "outputs": [],
   "source": [
    "df = df.astype('float')"
   ]
  },
  {
   "cell_type": "markdown",
   "metadata": {},
   "source": [
    "#### Calculating null values"
   ]
  },
  {
   "cell_type": "code",
   "execution_count": 13,
   "metadata": {},
   "outputs": [
    {
     "data": {
      "text/plain": [
       "Class        0\n",
       "User         0\n",
       "X0           0\n",
       "Y0           0\n",
       "Z0           0\n",
       "X1           0\n",
       "Y1           0\n",
       "Z1           0\n",
       "X2           0\n",
       "Y2           0\n",
       "Z2           0\n",
       "X3         690\n",
       "Y3         690\n",
       "Z3         690\n",
       "X4        3120\n",
       "Y4        3120\n",
       "Z4        3120\n",
       "X5       13023\n",
       "Y5       13023\n",
       "Z5       13023\n",
       "X6       25848\n",
       "Y6       25848\n",
       "Z6       25848\n",
       "X7       39152\n",
       "Y7       39152\n",
       "Z7       39152\n",
       "X8       47532\n",
       "Y8       47532\n",
       "Z8       47532\n",
       "X9       54128\n",
       "Y9       54128\n",
       "Z9       54128\n",
       "X10      63343\n",
       "Y10      63343\n",
       "Z10      63343\n",
       "X11      78064\n",
       "Y11      78064\n",
       "Z11      78064\n",
       "dtype: int64"
      ]
     },
     "execution_count": 13,
     "metadata": {},
     "output_type": "execute_result"
    }
   ],
   "source": [
    "df.isnull().sum()"
   ]
  },
  {
   "cell_type": "code",
   "execution_count": 14,
   "metadata": {},
   "outputs": [
    {
     "data": {
      "text/plain": [
       "Class    0.000000\n",
       "User     0.000000\n",
       "X0       0.000000\n",
       "Y0       0.000000\n",
       "Z0       0.000000\n",
       "X1       0.000000\n",
       "Y1       0.000000\n",
       "Z1       0.000000\n",
       "X2       0.000000\n",
       "Y2       0.000000\n",
       "Z2       0.000000\n",
       "X3       0.008835\n",
       "Y3       0.008835\n",
       "Z3       0.008835\n",
       "X4       0.039951\n",
       "Y4       0.039951\n",
       "Z4       0.039951\n",
       "X5       0.166756\n",
       "Y5       0.166756\n",
       "Z5       0.166756\n",
       "X6       0.330977\n",
       "Y6       0.330977\n",
       "Z6       0.330977\n",
       "X7       0.501332\n",
       "Y7       0.501332\n",
       "Z7       0.501332\n",
       "X8       0.608636\n",
       "Y8       0.608636\n",
       "Z8       0.608636\n",
       "X9       0.693096\n",
       "Y9       0.693096\n",
       "Z9       0.693096\n",
       "X10      0.811091\n",
       "Y10      0.811091\n",
       "Z10      0.811091\n",
       "X11      0.999590\n",
       "Y11      0.999590\n",
       "Z11      0.999590\n",
       "dtype: float64"
      ]
     },
     "execution_count": 14,
     "metadata": {},
     "output_type": "execute_result"
    }
   ],
   "source": [
    "df.isnull().sum()/df['X0'].count()"
   ]
  },
  {
   "cell_type": "code",
   "execution_count": 15,
   "metadata": {},
   "outputs": [
    {
     "data": {
      "text/plain": [
       "(16265, 38)"
      ]
     },
     "execution_count": 15,
     "metadata": {},
     "output_type": "execute_result"
    }
   ],
   "source": [
    "class1 = df[df['Class']==1]\n",
    "class1.shape"
   ]
  },
  {
   "cell_type": "code",
   "execution_count": 16,
   "metadata": {},
   "outputs": [
    {
     "data": {
      "text/plain": [
       "Class        0\n",
       "User         0\n",
       "X0           0\n",
       "Y0           0\n",
       "Z0           0\n",
       "X1           0\n",
       "Y1           0\n",
       "Z1           0\n",
       "X2           0\n",
       "Y2           0\n",
       "Z2           0\n",
       "X3         661\n",
       "Y3         661\n",
       "Z3         661\n",
       "X4        2075\n",
       "Y4        2075\n",
       "Z4        2075\n",
       "X5        7074\n",
       "Y5        7074\n",
       "Z5        7074\n",
       "X6       13626\n",
       "Y6       13626\n",
       "Z6       13626\n",
       "X7       16213\n",
       "Y7       16213\n",
       "Z7       16213\n",
       "X8       16217\n",
       "Y8       16217\n",
       "Z8       16217\n",
       "X9       16217\n",
       "Y9       16217\n",
       "Z9       16217\n",
       "X10      16217\n",
       "Y10      16217\n",
       "Z10      16217\n",
       "X11      16265\n",
       "Y11      16265\n",
       "Z11      16265\n",
       "dtype: int64"
      ]
     },
     "execution_count": 16,
     "metadata": {},
     "output_type": "execute_result"
    }
   ],
   "source": [
    "class1.isnull().sum()"
   ]
  },
  {
   "cell_type": "code",
   "execution_count": 17,
   "metadata": {},
   "outputs": [
    {
     "data": {
      "text/plain": [
       "(14978, 38)"
      ]
     },
     "execution_count": 17,
     "metadata": {},
     "output_type": "execute_result"
    }
   ],
   "source": [
    "class2 = df[df['Class']==2]\n",
    "class2.shape"
   ]
  },
  {
   "cell_type": "code",
   "execution_count": 18,
   "metadata": {},
   "outputs": [
    {
     "data": {
      "text/plain": [
       "Class        0\n",
       "User         0\n",
       "X0           0\n",
       "Y0           0\n",
       "Z0           0\n",
       "X1           0\n",
       "Y1           0\n",
       "Z1           0\n",
       "X2           0\n",
       "Y2           0\n",
       "Z2           0\n",
       "X3           0\n",
       "Y3           0\n",
       "Z3           0\n",
       "X4          28\n",
       "Y4          28\n",
       "Z4          28\n",
       "X5          69\n",
       "Y5          69\n",
       "Z5          69\n",
       "X6         217\n",
       "Y6         217\n",
       "Z6         217\n",
       "X7         310\n",
       "Y7         310\n",
       "Z7         310\n",
       "X8         428\n",
       "Y8         428\n",
       "Z8         428\n",
       "X9        1454\n",
       "Y9        1454\n",
       "Z9        1454\n",
       "X10       4454\n",
       "Y10       4454\n",
       "Z10       4454\n",
       "X11      14947\n",
       "Y11      14947\n",
       "Z11      14947\n",
       "dtype: int64"
      ]
     },
     "execution_count": 18,
     "metadata": {},
     "output_type": "execute_result"
    }
   ],
   "source": [
    "class2.isnull().sum()"
   ]
  },
  {
   "cell_type": "code",
   "execution_count": 19,
   "metadata": {},
   "outputs": [
    {
     "data": {
      "text/plain": [
       "(16344, 38)"
      ]
     },
     "execution_count": 19,
     "metadata": {},
     "output_type": "execute_result"
    }
   ],
   "source": [
    "class3 = df[df['Class']==3]\n",
    "class3.shape"
   ]
  },
  {
   "cell_type": "code",
   "execution_count": 20,
   "metadata": {},
   "outputs": [
    {
     "data": {
      "text/plain": [
       "Class        0\n",
       "User         0\n",
       "X0           0\n",
       "Y0           0\n",
       "Z0           0\n",
       "X1           0\n",
       "Y1           0\n",
       "Z1           0\n",
       "X2           0\n",
       "Y2           0\n",
       "Z2           0\n",
       "X3          22\n",
       "Y3          22\n",
       "Z3          22\n",
       "X4         964\n",
       "Y4         964\n",
       "Z4         964\n",
       "X5        5598\n",
       "Y5        5598\n",
       "Z5        5598\n",
       "X6        9921\n",
       "Y6        9921\n",
       "Z6        9921\n",
       "X7       12788\n",
       "Y7       12788\n",
       "Z7       12788\n",
       "X8       16263\n",
       "Y8       16263\n",
       "Z8       16263\n",
       "X9       16344\n",
       "Y9       16344\n",
       "Z9       16344\n",
       "X10      16344\n",
       "Y10      16344\n",
       "Z10      16344\n",
       "X11      16344\n",
       "Y11      16344\n",
       "Z11      16344\n",
       "dtype: int64"
      ]
     },
     "execution_count": 20,
     "metadata": {},
     "output_type": "execute_result"
    }
   ],
   "source": [
    "class3.isnull().sum()"
   ]
  },
  {
   "cell_type": "code",
   "execution_count": 21,
   "metadata": {},
   "outputs": [
    {
     "data": {
      "text/plain": [
       "(14775, 38)"
      ]
     },
     "execution_count": 21,
     "metadata": {},
     "output_type": "execute_result"
    }
   ],
   "source": [
    "class4 = df[df['Class']==4]\n",
    "class4.shape"
   ]
  },
  {
   "cell_type": "code",
   "execution_count": 22,
   "metadata": {},
   "outputs": [
    {
     "data": {
      "text/plain": [
       "Class        0\n",
       "User         0\n",
       "X0           0\n",
       "Y0           0\n",
       "Z0           0\n",
       "X1           0\n",
       "Y1           0\n",
       "Z1           0\n",
       "X2           0\n",
       "Y2           0\n",
       "Z2           0\n",
       "X3           1\n",
       "Y3           1\n",
       "Z3           1\n",
       "X4           6\n",
       "Y4           6\n",
       "Z4           6\n",
       "X5         197\n",
       "Y5         197\n",
       "Z5         197\n",
       "X6        1757\n",
       "Y6        1757\n",
       "Z6        1757\n",
       "X7        9008\n",
       "Y7        9008\n",
       "Z7        9008\n",
       "X8       12426\n",
       "Y8       12426\n",
       "Z8       12426\n",
       "X9       14762\n",
       "Y9       14762\n",
       "Z9       14762\n",
       "X10      14775\n",
       "Y10      14775\n",
       "Z10      14775\n",
       "X11      14775\n",
       "Y11      14775\n",
       "Z11      14775\n",
       "dtype: int64"
      ]
     },
     "execution_count": 22,
     "metadata": {},
     "output_type": "execute_result"
    }
   ],
   "source": [
    "class4.isnull().sum()"
   ]
  },
  {
   "cell_type": "code",
   "execution_count": 23,
   "metadata": {},
   "outputs": [
    {
     "data": {
      "text/plain": [
       "(15733, 38)"
      ]
     },
     "execution_count": 23,
     "metadata": {},
     "output_type": "execute_result"
    }
   ],
   "source": [
    "class5 = df[df['Class']==5]\n",
    "class5.shape"
   ]
  },
  {
   "cell_type": "code",
   "execution_count": 24,
   "metadata": {},
   "outputs": [
    {
     "data": {
      "text/plain": [
       "Class        0\n",
       "User         0\n",
       "X0           0\n",
       "Y0           0\n",
       "Z0           0\n",
       "X1           0\n",
       "Y1           0\n",
       "Z1           0\n",
       "X2           0\n",
       "Y2           0\n",
       "Z2           0\n",
       "X3           6\n",
       "Y3           6\n",
       "Z3           6\n",
       "X4          47\n",
       "Y4          47\n",
       "Z4          47\n",
       "X5          85\n",
       "Y5          85\n",
       "Z5          85\n",
       "X6         327\n",
       "Y6         327\n",
       "Z6         327\n",
       "X7         833\n",
       "Y7         833\n",
       "Z7         833\n",
       "X8        2198\n",
       "Y8        2198\n",
       "Z8        2198\n",
       "X9        5351\n",
       "Y9        5351\n",
       "Z9        5351\n",
       "X10      11553\n",
       "Y10      11553\n",
       "Z10      11553\n",
       "X11      15733\n",
       "Y11      15733\n",
       "Z11      15733\n",
       "dtype: int64"
      ]
     },
     "execution_count": 24,
     "metadata": {},
     "output_type": "execute_result"
    }
   ],
   "source": [
    "class5.isnull().sum()"
   ]
  },
  {
   "cell_type": "markdown",
   "metadata": {},
   "source": [
    "#### Dealing with null values"
   ]
  },
  {
   "cell_type": "markdown",
   "metadata": {},
   "source": [
    "Replacing null values with '0'"
   ]
  },
  {
   "cell_type": "code",
   "execution_count": 25,
   "metadata": {},
   "outputs": [],
   "source": [
    "df.fillna(0,inplace=True)"
   ]
  },
  {
   "cell_type": "code",
   "execution_count": 26,
   "metadata": {},
   "outputs": [
    {
     "data": {
      "text/html": [
       "<div>\n",
       "<style scoped>\n",
       "    .dataframe tbody tr th:only-of-type {\n",
       "        vertical-align: middle;\n",
       "    }\n",
       "\n",
       "    .dataframe tbody tr th {\n",
       "        vertical-align: top;\n",
       "    }\n",
       "\n",
       "    .dataframe thead th {\n",
       "        text-align: right;\n",
       "    }\n",
       "</style>\n",
       "<table border=\"1\" class=\"dataframe\">\n",
       "  <thead>\n",
       "    <tr style=\"text-align: right;\">\n",
       "      <th></th>\n",
       "      <th>Class</th>\n",
       "      <th>User</th>\n",
       "      <th>X0</th>\n",
       "      <th>Y0</th>\n",
       "      <th>Z0</th>\n",
       "      <th>X1</th>\n",
       "      <th>Y1</th>\n",
       "      <th>Z1</th>\n",
       "      <th>X2</th>\n",
       "      <th>Y2</th>\n",
       "      <th>...</th>\n",
       "      <th>Z8</th>\n",
       "      <th>X9</th>\n",
       "      <th>Y9</th>\n",
       "      <th>Z9</th>\n",
       "      <th>X10</th>\n",
       "      <th>Y10</th>\n",
       "      <th>Z10</th>\n",
       "      <th>X11</th>\n",
       "      <th>Y11</th>\n",
       "      <th>Z11</th>\n",
       "    </tr>\n",
       "  </thead>\n",
       "  <tbody>\n",
       "    <tr>\n",
       "      <th>0</th>\n",
       "      <td>0.0</td>\n",
       "      <td>0.0</td>\n",
       "      <td>0.000000</td>\n",
       "      <td>0.000000</td>\n",
       "      <td>0.000000</td>\n",
       "      <td>0.000000</td>\n",
       "      <td>0.000000</td>\n",
       "      <td>0.000000</td>\n",
       "      <td>0.000000</td>\n",
       "      <td>0.000000</td>\n",
       "      <td>...</td>\n",
       "      <td>0.0</td>\n",
       "      <td>0.0</td>\n",
       "      <td>0.0</td>\n",
       "      <td>0.0</td>\n",
       "      <td>0.0</td>\n",
       "      <td>0.0</td>\n",
       "      <td>0.0</td>\n",
       "      <td>0.0</td>\n",
       "      <td>0.0</td>\n",
       "      <td>0.0</td>\n",
       "    </tr>\n",
       "    <tr>\n",
       "      <th>1</th>\n",
       "      <td>1.0</td>\n",
       "      <td>0.0</td>\n",
       "      <td>54.263880</td>\n",
       "      <td>71.466776</td>\n",
       "      <td>-64.807709</td>\n",
       "      <td>76.895635</td>\n",
       "      <td>42.462500</td>\n",
       "      <td>-72.780545</td>\n",
       "      <td>36.621229</td>\n",
       "      <td>81.680557</td>\n",
       "      <td>...</td>\n",
       "      <td>0.0</td>\n",
       "      <td>0.0</td>\n",
       "      <td>0.0</td>\n",
       "      <td>0.0</td>\n",
       "      <td>0.0</td>\n",
       "      <td>0.0</td>\n",
       "      <td>0.0</td>\n",
       "      <td>0.0</td>\n",
       "      <td>0.0</td>\n",
       "      <td>0.0</td>\n",
       "    </tr>\n",
       "    <tr>\n",
       "      <th>2</th>\n",
       "      <td>1.0</td>\n",
       "      <td>0.0</td>\n",
       "      <td>56.527558</td>\n",
       "      <td>72.266609</td>\n",
       "      <td>-61.935252</td>\n",
       "      <td>39.135978</td>\n",
       "      <td>82.538530</td>\n",
       "      <td>-49.596509</td>\n",
       "      <td>79.223743</td>\n",
       "      <td>43.254091</td>\n",
       "      <td>...</td>\n",
       "      <td>0.0</td>\n",
       "      <td>0.0</td>\n",
       "      <td>0.0</td>\n",
       "      <td>0.0</td>\n",
       "      <td>0.0</td>\n",
       "      <td>0.0</td>\n",
       "      <td>0.0</td>\n",
       "      <td>0.0</td>\n",
       "      <td>0.0</td>\n",
       "      <td>0.0</td>\n",
       "    </tr>\n",
       "    <tr>\n",
       "      <th>3</th>\n",
       "      <td>1.0</td>\n",
       "      <td>0.0</td>\n",
       "      <td>55.849928</td>\n",
       "      <td>72.469064</td>\n",
       "      <td>-62.562788</td>\n",
       "      <td>37.988804</td>\n",
       "      <td>82.631347</td>\n",
       "      <td>-50.606259</td>\n",
       "      <td>78.451526</td>\n",
       "      <td>43.567403</td>\n",
       "      <td>...</td>\n",
       "      <td>0.0</td>\n",
       "      <td>0.0</td>\n",
       "      <td>0.0</td>\n",
       "      <td>0.0</td>\n",
       "      <td>0.0</td>\n",
       "      <td>0.0</td>\n",
       "      <td>0.0</td>\n",
       "      <td>0.0</td>\n",
       "      <td>0.0</td>\n",
       "      <td>0.0</td>\n",
       "    </tr>\n",
       "    <tr>\n",
       "      <th>4</th>\n",
       "      <td>1.0</td>\n",
       "      <td>0.0</td>\n",
       "      <td>55.329647</td>\n",
       "      <td>71.707275</td>\n",
       "      <td>-63.688956</td>\n",
       "      <td>36.561863</td>\n",
       "      <td>81.868749</td>\n",
       "      <td>-52.752784</td>\n",
       "      <td>86.320630</td>\n",
       "      <td>68.214645</td>\n",
       "      <td>...</td>\n",
       "      <td>0.0</td>\n",
       "      <td>0.0</td>\n",
       "      <td>0.0</td>\n",
       "      <td>0.0</td>\n",
       "      <td>0.0</td>\n",
       "      <td>0.0</td>\n",
       "      <td>0.0</td>\n",
       "      <td>0.0</td>\n",
       "      <td>0.0</td>\n",
       "      <td>0.0</td>\n",
       "    </tr>\n",
       "  </tbody>\n",
       "</table>\n",
       "<p>5 rows × 38 columns</p>\n",
       "</div>"
      ],
      "text/plain": [
       "   Class  User         X0         Y0         Z0         X1         Y1  \\\n",
       "0    0.0   0.0   0.000000   0.000000   0.000000   0.000000   0.000000   \n",
       "1    1.0   0.0  54.263880  71.466776 -64.807709  76.895635  42.462500   \n",
       "2    1.0   0.0  56.527558  72.266609 -61.935252  39.135978  82.538530   \n",
       "3    1.0   0.0  55.849928  72.469064 -62.562788  37.988804  82.631347   \n",
       "4    1.0   0.0  55.329647  71.707275 -63.688956  36.561863  81.868749   \n",
       "\n",
       "          Z1         X2         Y2  ...   Z8   X9   Y9   Z9  X10  Y10  Z10  \\\n",
       "0   0.000000   0.000000   0.000000  ...  0.0  0.0  0.0  0.0  0.0  0.0  0.0   \n",
       "1 -72.780545  36.621229  81.680557  ...  0.0  0.0  0.0  0.0  0.0  0.0  0.0   \n",
       "2 -49.596509  79.223743  43.254091  ...  0.0  0.0  0.0  0.0  0.0  0.0  0.0   \n",
       "3 -50.606259  78.451526  43.567403  ...  0.0  0.0  0.0  0.0  0.0  0.0  0.0   \n",
       "4 -52.752784  86.320630  68.214645  ...  0.0  0.0  0.0  0.0  0.0  0.0  0.0   \n",
       "\n",
       "   X11  Y11  Z11  \n",
       "0  0.0  0.0  0.0  \n",
       "1  0.0  0.0  0.0  \n",
       "2  0.0  0.0  0.0  \n",
       "3  0.0  0.0  0.0  \n",
       "4  0.0  0.0  0.0  \n",
       "\n",
       "[5 rows x 38 columns]"
      ]
     },
     "execution_count": 26,
     "metadata": {},
     "output_type": "execute_result"
    }
   ],
   "source": [
    "df.head()"
   ]
  },
  {
   "cell_type": "code",
   "execution_count": 27,
   "metadata": {
    "scrolled": false
   },
   "outputs": [
    {
     "name": "stderr",
     "output_type": "stream",
     "text": [
      "C:\\Users\\admin\\Anaconda3\\lib\\site-packages\\pandas\\core\\generic.py:6130: SettingWithCopyWarning: \n",
      "A value is trying to be set on a copy of a slice from a DataFrame\n",
      "\n",
      "See the caveats in the documentation: http://pandas.pydata.org/pandas-docs/stable/indexing.html#indexing-view-versus-copy\n",
      "  self._update_inplace(new_data)\n"
     ]
    }
   ],
   "source": [
    "class1['X3'].fillna(np.mean(class1['X3']),inplace=True)"
   ]
  },
  {
   "cell_type": "code",
   "execution_count": 28,
   "metadata": {},
   "outputs": [],
   "source": [
    "class1['Y3'].fillna(np.mean(class1['Y3']),inplace=True)"
   ]
  },
  {
   "cell_type": "code",
   "execution_count": 29,
   "metadata": {},
   "outputs": [],
   "source": [
    "class1['Z3'].fillna(np.mean(class1['Z3']),inplace=True)"
   ]
  },
  {
   "cell_type": "code",
   "execution_count": 30,
   "metadata": {},
   "outputs": [],
   "source": [
    "class1['X4'].fillna(np.mean(class1['X4']),inplace=True)"
   ]
  },
  {
   "cell_type": "code",
   "execution_count": 31,
   "metadata": {},
   "outputs": [],
   "source": [
    "class1['Y4'].fillna(np.mean(class1['Y4']),inplace=True)"
   ]
  },
  {
   "cell_type": "code",
   "execution_count": 32,
   "metadata": {},
   "outputs": [],
   "source": [
    "class1['Z4'].fillna(np.mean(class1['Z4']),inplace=True)"
   ]
  },
  {
   "cell_type": "code",
   "execution_count": 33,
   "metadata": {},
   "outputs": [],
   "source": [
    "class1['X5'].fillna(np.mean(class1['X5']),inplace=True)"
   ]
  },
  {
   "cell_type": "code",
   "execution_count": 34,
   "metadata": {},
   "outputs": [],
   "source": [
    "class1['Y5'].fillna(np.mean(class1['Y5']),inplace=True)"
   ]
  },
  {
   "cell_type": "code",
   "execution_count": 35,
   "metadata": {},
   "outputs": [],
   "source": [
    "class1['Z5'].fillna(np.mean(class1['Z5']),inplace=True)"
   ]
  },
  {
   "cell_type": "code",
   "execution_count": 36,
   "metadata": {},
   "outputs": [],
   "source": [
    "class1['X6'].fillna(np.mean(class1['X6']),inplace=True)"
   ]
  },
  {
   "cell_type": "code",
   "execution_count": 37,
   "metadata": {},
   "outputs": [],
   "source": [
    "class1['Y6'].fillna(np.mean(class1['Y6']),inplace=True)"
   ]
  },
  {
   "cell_type": "code",
   "execution_count": 38,
   "metadata": {},
   "outputs": [],
   "source": [
    "class1['Z6'].fillna(np.mean(class1['Z6']),inplace=True)"
   ]
  },
  {
   "cell_type": "code",
   "execution_count": 39,
   "metadata": {},
   "outputs": [],
   "source": [
    "class1['X7'].fillna(np.mean(class1['X7']),inplace=True)"
   ]
  },
  {
   "cell_type": "code",
   "execution_count": 40,
   "metadata": {},
   "outputs": [],
   "source": [
    "class1['Y7'].fillna(np.mean(class1['Y7']),inplace=True)"
   ]
  },
  {
   "cell_type": "code",
   "execution_count": 41,
   "metadata": {},
   "outputs": [],
   "source": [
    "class1['Z7'].fillna(np.mean(class1['Z7']),inplace=True)"
   ]
  },
  {
   "cell_type": "code",
   "execution_count": 42,
   "metadata": {},
   "outputs": [],
   "source": [
    "class1['X8'].fillna(np.mean(class1['X8']),inplace=True)"
   ]
  },
  {
   "cell_type": "code",
   "execution_count": 43,
   "metadata": {},
   "outputs": [],
   "source": [
    "class1['Y8'].fillna(np.mean(class1['Y8']),inplace=True)"
   ]
  },
  {
   "cell_type": "code",
   "execution_count": 44,
   "metadata": {},
   "outputs": [],
   "source": [
    "class1['Z8'].fillna(np.mean(class1['Z8']),inplace=True)"
   ]
  },
  {
   "cell_type": "code",
   "execution_count": 45,
   "metadata": {},
   "outputs": [],
   "source": [
    "class1['X9'].fillna(np.mean(class1['X9']),inplace=True)"
   ]
  },
  {
   "cell_type": "code",
   "execution_count": 46,
   "metadata": {},
   "outputs": [],
   "source": [
    "class1['Y9'].fillna(np.mean(class1['Y9']),inplace=True)"
   ]
  },
  {
   "cell_type": "code",
   "execution_count": 47,
   "metadata": {},
   "outputs": [],
   "source": [
    "class1['Z9'].fillna(np.mean(class1['Z9']),inplace=True)"
   ]
  },
  {
   "cell_type": "code",
   "execution_count": 48,
   "metadata": {},
   "outputs": [],
   "source": [
    "class1['X10'].fillna(np.mean(class1['X10']),inplace=True)"
   ]
  },
  {
   "cell_type": "code",
   "execution_count": 49,
   "metadata": {},
   "outputs": [],
   "source": [
    "class1['Y10'].fillna(np.mean(class1['Y10']),inplace=True)"
   ]
  },
  {
   "cell_type": "code",
   "execution_count": 50,
   "metadata": {},
   "outputs": [],
   "source": [
    "class1['Z10'].fillna(np.mean(class1['Z10']),inplace=True)"
   ]
  },
  {
   "cell_type": "code",
   "execution_count": 51,
   "metadata": {},
   "outputs": [],
   "source": [
    "class1['X11'].fillna(np.mean(class1['X11']),inplace=True)"
   ]
  },
  {
   "cell_type": "code",
   "execution_count": 52,
   "metadata": {},
   "outputs": [],
   "source": [
    "class1['Y11'].fillna(np.mean(class1['Y11']),inplace=True)"
   ]
  },
  {
   "cell_type": "code",
   "execution_count": 53,
   "metadata": {},
   "outputs": [],
   "source": [
    "class1['Z11'].fillna(np.mean(class1['Z11']),inplace=True)"
   ]
  },
  {
   "cell_type": "code",
   "execution_count": 54,
   "metadata": {},
   "outputs": [],
   "source": [
    "class2['X4'].fillna(np.mean(class2['X4']),inplace=True)"
   ]
  },
  {
   "cell_type": "code",
   "execution_count": 55,
   "metadata": {},
   "outputs": [],
   "source": [
    "class2['Y4'].fillna(np.mean(class2['Y4']),inplace=True)"
   ]
  },
  {
   "cell_type": "code",
   "execution_count": 56,
   "metadata": {},
   "outputs": [],
   "source": [
    "class2['Z4'].fillna(np.mean(class2['Z4']),inplace=True)"
   ]
  },
  {
   "cell_type": "code",
   "execution_count": 57,
   "metadata": {},
   "outputs": [],
   "source": [
    "class2['X5'].fillna(np.mean(class2['X5']),inplace=True)"
   ]
  },
  {
   "cell_type": "code",
   "execution_count": 58,
   "metadata": {},
   "outputs": [],
   "source": [
    "class2['Y5'].fillna(np.mean(class2['Y5']),inplace=True)"
   ]
  },
  {
   "cell_type": "code",
   "execution_count": 59,
   "metadata": {},
   "outputs": [],
   "source": [
    "class2['Z5'].fillna(np.mean(class2['Z5']),inplace=True)"
   ]
  },
  {
   "cell_type": "code",
   "execution_count": 60,
   "metadata": {},
   "outputs": [],
   "source": [
    "class2['X6'].fillna(np.mean(class2['X6']),inplace=True)"
   ]
  },
  {
   "cell_type": "code",
   "execution_count": 61,
   "metadata": {},
   "outputs": [],
   "source": [
    "class2['Y6'].fillna(np.mean(class2['Y6']),inplace=True)"
   ]
  },
  {
   "cell_type": "code",
   "execution_count": 62,
   "metadata": {},
   "outputs": [],
   "source": [
    "class2['Z6'].fillna(np.mean(class2['Z6']),inplace=True)"
   ]
  },
  {
   "cell_type": "code",
   "execution_count": 63,
   "metadata": {},
   "outputs": [],
   "source": [
    "class2['X7'].fillna(np.mean(class2['X7']),inplace=True)"
   ]
  },
  {
   "cell_type": "code",
   "execution_count": 64,
   "metadata": {},
   "outputs": [],
   "source": [
    "class2['Y7'].fillna(np.mean(class2['Y7']),inplace=True)"
   ]
  },
  {
   "cell_type": "code",
   "execution_count": 65,
   "metadata": {},
   "outputs": [],
   "source": [
    "class2['Z7'].fillna(np.mean(class2['Z7']),inplace=True)"
   ]
  },
  {
   "cell_type": "code",
   "execution_count": 66,
   "metadata": {},
   "outputs": [],
   "source": [
    "class2['X8'].fillna(np.mean(class2['X8']),inplace=True)"
   ]
  },
  {
   "cell_type": "code",
   "execution_count": 67,
   "metadata": {},
   "outputs": [],
   "source": [
    "class2['Y8'].fillna(np.mean(class2['Y8']),inplace=True)"
   ]
  },
  {
   "cell_type": "code",
   "execution_count": 68,
   "metadata": {},
   "outputs": [],
   "source": [
    "class2['Z8'].fillna(np.mean(class2['Z8']),inplace=True)"
   ]
  },
  {
   "cell_type": "code",
   "execution_count": 69,
   "metadata": {},
   "outputs": [],
   "source": [
    "class2['X9'].fillna(np.mean(class2['X9']),inplace=True)"
   ]
  },
  {
   "cell_type": "code",
   "execution_count": 70,
   "metadata": {},
   "outputs": [],
   "source": [
    "class2['Y9'].fillna(np.mean(class2['Y9']),inplace=True)"
   ]
  },
  {
   "cell_type": "code",
   "execution_count": 71,
   "metadata": {},
   "outputs": [],
   "source": [
    "class2['Z9'].fillna(np.mean(class2['Z9']),inplace=True)"
   ]
  },
  {
   "cell_type": "code",
   "execution_count": 72,
   "metadata": {},
   "outputs": [],
   "source": [
    "class2['X10'].fillna(np.mean(class2['X10']),inplace=True)"
   ]
  },
  {
   "cell_type": "code",
   "execution_count": 73,
   "metadata": {},
   "outputs": [],
   "source": [
    "class2['Y10'].fillna(np.mean(class2['Y10']),inplace=True)"
   ]
  },
  {
   "cell_type": "code",
   "execution_count": 74,
   "metadata": {},
   "outputs": [],
   "source": [
    "class2['Z10'].fillna(np.mean(class2['Z10']),inplace=True)"
   ]
  },
  {
   "cell_type": "code",
   "execution_count": 75,
   "metadata": {},
   "outputs": [],
   "source": [
    "class2['X11'].fillna(np.mean(class2['X11']),inplace=True)"
   ]
  },
  {
   "cell_type": "code",
   "execution_count": 76,
   "metadata": {},
   "outputs": [],
   "source": [
    "class2['Y11'].fillna(np.mean(class2['Y11']),inplace=True)"
   ]
  },
  {
   "cell_type": "code",
   "execution_count": 77,
   "metadata": {},
   "outputs": [],
   "source": [
    "class2['Z11'].fillna(np.mean(class2['Z11']),inplace=True)"
   ]
  },
  {
   "cell_type": "code",
   "execution_count": 78,
   "metadata": {},
   "outputs": [],
   "source": [
    "class3['X3'].fillna(np.mean(class3['X3']),inplace=True)"
   ]
  },
  {
   "cell_type": "code",
   "execution_count": 79,
   "metadata": {},
   "outputs": [],
   "source": [
    "class3['Y3'].fillna(np.mean(class3['Y3']),inplace=True)"
   ]
  },
  {
   "cell_type": "code",
   "execution_count": 80,
   "metadata": {},
   "outputs": [],
   "source": [
    "class3['Z3'].fillna(np.mean(class3['Z3']),inplace=True)"
   ]
  },
  {
   "cell_type": "code",
   "execution_count": 81,
   "metadata": {},
   "outputs": [],
   "source": [
    "class3['X4'].fillna(np.mean(class3['X4']),inplace=True)"
   ]
  },
  {
   "cell_type": "code",
   "execution_count": 82,
   "metadata": {},
   "outputs": [],
   "source": [
    "class3['Y4'].fillna(np.mean(class3['Y4']),inplace=True)"
   ]
  },
  {
   "cell_type": "code",
   "execution_count": 83,
   "metadata": {},
   "outputs": [],
   "source": [
    "class3['Z4'].fillna(np.mean(class3['Z4']),inplace=True)"
   ]
  },
  {
   "cell_type": "code",
   "execution_count": 84,
   "metadata": {},
   "outputs": [],
   "source": [
    "class3['X5'].fillna(np.mean(class3['X5']),inplace=True)"
   ]
  },
  {
   "cell_type": "code",
   "execution_count": 85,
   "metadata": {},
   "outputs": [],
   "source": [
    "class3['Y5'].fillna(np.mean(class3['Y5']),inplace=True)"
   ]
  },
  {
   "cell_type": "code",
   "execution_count": 86,
   "metadata": {},
   "outputs": [],
   "source": [
    "class3['Z5'].fillna(np.mean(class3['Z5']),inplace=True)"
   ]
  },
  {
   "cell_type": "code",
   "execution_count": 87,
   "metadata": {},
   "outputs": [],
   "source": [
    "class3['X6'].fillna(np.mean(class3['X6']),inplace=True)"
   ]
  },
  {
   "cell_type": "code",
   "execution_count": 88,
   "metadata": {},
   "outputs": [],
   "source": [
    "class3['Y6'].fillna(np.mean(class3['Y6']),inplace=True)"
   ]
  },
  {
   "cell_type": "code",
   "execution_count": 89,
   "metadata": {},
   "outputs": [],
   "source": [
    "class3['Z6'].fillna(np.mean(class3['Z6']),inplace=True)"
   ]
  },
  {
   "cell_type": "code",
   "execution_count": 90,
   "metadata": {},
   "outputs": [],
   "source": [
    "class3['X7'].fillna(np.mean(class3['X7']),inplace=True)"
   ]
  },
  {
   "cell_type": "code",
   "execution_count": 91,
   "metadata": {},
   "outputs": [],
   "source": [
    "class3['Y7'].fillna(np.mean(class3['Y7']),inplace=True)"
   ]
  },
  {
   "cell_type": "code",
   "execution_count": 92,
   "metadata": {},
   "outputs": [],
   "source": [
    "class3['Z7'].fillna(np.mean(class3['Z7']),inplace=True)"
   ]
  },
  {
   "cell_type": "code",
   "execution_count": 93,
   "metadata": {},
   "outputs": [],
   "source": [
    "class3['X8'].fillna(np.mean(class3['X8']),inplace=True)"
   ]
  },
  {
   "cell_type": "code",
   "execution_count": 94,
   "metadata": {},
   "outputs": [],
   "source": [
    "class3['Y8'].fillna(np.mean(class3['Y8']),inplace=True)"
   ]
  },
  {
   "cell_type": "code",
   "execution_count": 95,
   "metadata": {},
   "outputs": [],
   "source": [
    "class3['Z8'].fillna(np.mean(class3['Z8']),inplace=True)"
   ]
  },
  {
   "cell_type": "code",
   "execution_count": 96,
   "metadata": {},
   "outputs": [],
   "source": [
    "class3['X9'].fillna(np.mean(class3['X9']),inplace=True)"
   ]
  },
  {
   "cell_type": "code",
   "execution_count": 97,
   "metadata": {},
   "outputs": [],
   "source": [
    "class3['Y9'].fillna(np.mean(class3['Y9']),inplace=True)"
   ]
  },
  {
   "cell_type": "code",
   "execution_count": 98,
   "metadata": {},
   "outputs": [],
   "source": [
    "class3['Z9'].fillna(np.mean(class3['Z9']),inplace=True)"
   ]
  },
  {
   "cell_type": "code",
   "execution_count": 99,
   "metadata": {},
   "outputs": [],
   "source": [
    "class3['X10'].fillna(np.mean(class3['X10']),inplace=True)"
   ]
  },
  {
   "cell_type": "code",
   "execution_count": 100,
   "metadata": {},
   "outputs": [],
   "source": [
    "class3['Y10'].fillna(np.mean(class3['Y10']),inplace=True)"
   ]
  },
  {
   "cell_type": "code",
   "execution_count": 101,
   "metadata": {},
   "outputs": [],
   "source": [
    "class3['Z10'].fillna(np.mean(class3['Z10']),inplace=True)"
   ]
  },
  {
   "cell_type": "code",
   "execution_count": 102,
   "metadata": {},
   "outputs": [],
   "source": [
    "class3['X11'].fillna(np.mean(class3['X11']),inplace=True)"
   ]
  },
  {
   "cell_type": "code",
   "execution_count": 103,
   "metadata": {},
   "outputs": [],
   "source": [
    "class3['Y11'].fillna(np.mean(class3['Y11']),inplace=True)"
   ]
  },
  {
   "cell_type": "code",
   "execution_count": 104,
   "metadata": {},
   "outputs": [],
   "source": [
    "class3['Z11'].fillna(np.mean(class3['Z11']),inplace=True)"
   ]
  },
  {
   "cell_type": "code",
   "execution_count": 105,
   "metadata": {},
   "outputs": [],
   "source": [
    "class4['X3'].fillna(np.mean(class4['X3']),inplace=True)"
   ]
  },
  {
   "cell_type": "code",
   "execution_count": 106,
   "metadata": {},
   "outputs": [],
   "source": [
    "class4['Y3'].fillna(np.mean(class4['Y3']),inplace=True)"
   ]
  },
  {
   "cell_type": "code",
   "execution_count": 107,
   "metadata": {},
   "outputs": [],
   "source": [
    "class4['Z3'].fillna(np.mean(class4['Z3']),inplace=True)"
   ]
  },
  {
   "cell_type": "code",
   "execution_count": 108,
   "metadata": {},
   "outputs": [],
   "source": [
    "class4['X4'].fillna(np.mean(class4['X4']),inplace=True)"
   ]
  },
  {
   "cell_type": "code",
   "execution_count": 109,
   "metadata": {},
   "outputs": [],
   "source": [
    "class4['Y4'].fillna(np.mean(class4['Y4']),inplace=True)"
   ]
  },
  {
   "cell_type": "code",
   "execution_count": 110,
   "metadata": {},
   "outputs": [],
   "source": [
    "class4['Z4'].fillna(np.mean(class4['Z4']),inplace=True)"
   ]
  },
  {
   "cell_type": "code",
   "execution_count": 111,
   "metadata": {},
   "outputs": [],
   "source": [
    "class4['X5'].fillna(np.mean(class4['X5']),inplace=True)"
   ]
  },
  {
   "cell_type": "code",
   "execution_count": 112,
   "metadata": {},
   "outputs": [],
   "source": [
    "class4['Y5'].fillna(np.mean(class4['Y5']),inplace=True)"
   ]
  },
  {
   "cell_type": "code",
   "execution_count": 113,
   "metadata": {},
   "outputs": [],
   "source": [
    "class4['Z5'].fillna(np.mean(class4['Z5']),inplace=True)"
   ]
  },
  {
   "cell_type": "code",
   "execution_count": 114,
   "metadata": {},
   "outputs": [],
   "source": [
    "class4['X6'].fillna(np.mean(class4['X6']),inplace=True)"
   ]
  },
  {
   "cell_type": "code",
   "execution_count": 115,
   "metadata": {},
   "outputs": [],
   "source": [
    "class4['Y6'].fillna(np.mean(class4['Y6']),inplace=True)"
   ]
  },
  {
   "cell_type": "code",
   "execution_count": 116,
   "metadata": {},
   "outputs": [],
   "source": [
    "class4['Z6'].fillna(np.mean(class4['Z6']),inplace=True)"
   ]
  },
  {
   "cell_type": "code",
   "execution_count": 117,
   "metadata": {},
   "outputs": [],
   "source": [
    "class4['X7'].fillna(np.mean(class4['X7']),inplace=True)"
   ]
  },
  {
   "cell_type": "code",
   "execution_count": 118,
   "metadata": {},
   "outputs": [],
   "source": [
    "class4['Y7'].fillna(np.mean(class4['Y7']),inplace=True)"
   ]
  },
  {
   "cell_type": "code",
   "execution_count": 119,
   "metadata": {},
   "outputs": [],
   "source": [
    "class4['Z7'].fillna(np.mean(class4['Z7']),inplace=True)"
   ]
  },
  {
   "cell_type": "code",
   "execution_count": 120,
   "metadata": {},
   "outputs": [],
   "source": [
    "class4['X8'].fillna(np.mean(class4['X8']),inplace=True)"
   ]
  },
  {
   "cell_type": "code",
   "execution_count": 121,
   "metadata": {},
   "outputs": [],
   "source": [
    "class4['Y8'].fillna(np.mean(class4['Y8']),inplace=True)"
   ]
  },
  {
   "cell_type": "code",
   "execution_count": 122,
   "metadata": {},
   "outputs": [],
   "source": [
    "class4['Z8'].fillna(np.mean(class4['Z8']),inplace=True)"
   ]
  },
  {
   "cell_type": "code",
   "execution_count": 123,
   "metadata": {},
   "outputs": [],
   "source": [
    "class4['X9'].fillna(np.mean(class4['X9']),inplace=True)"
   ]
  },
  {
   "cell_type": "code",
   "execution_count": 124,
   "metadata": {},
   "outputs": [],
   "source": [
    "class4['Y9'].fillna(np.mean(class4['Y9']),inplace=True)"
   ]
  },
  {
   "cell_type": "code",
   "execution_count": 125,
   "metadata": {},
   "outputs": [],
   "source": [
    "class4['Z9'].fillna(np.mean(class4['Z9']),inplace=True)"
   ]
  },
  {
   "cell_type": "code",
   "execution_count": 126,
   "metadata": {},
   "outputs": [],
   "source": [
    "class4['X10'].fillna(np.mean(class4['X10']),inplace=True)"
   ]
  },
  {
   "cell_type": "code",
   "execution_count": 127,
   "metadata": {},
   "outputs": [],
   "source": [
    "class4['Y10'].fillna(np.mean(class4['Y10']),inplace=True)"
   ]
  },
  {
   "cell_type": "code",
   "execution_count": 128,
   "metadata": {},
   "outputs": [],
   "source": [
    "class4['Z10'].fillna(np.mean(class4['Z10']),inplace=True)"
   ]
  },
  {
   "cell_type": "code",
   "execution_count": 129,
   "metadata": {},
   "outputs": [],
   "source": [
    "class4['X11'].fillna(np.mean(class4['X11']),inplace=True)"
   ]
  },
  {
   "cell_type": "code",
   "execution_count": 130,
   "metadata": {},
   "outputs": [],
   "source": [
    "class4['Y11'].fillna(np.mean(class4['Y11']),inplace=True)"
   ]
  },
  {
   "cell_type": "code",
   "execution_count": 131,
   "metadata": {},
   "outputs": [],
   "source": [
    "class4['Z11'].fillna(np.mean(class4['Z11']),inplace=True)"
   ]
  },
  {
   "cell_type": "code",
   "execution_count": 132,
   "metadata": {},
   "outputs": [],
   "source": [
    "class5['X3'].fillna(np.mean(class5['X3']),inplace=True)"
   ]
  },
  {
   "cell_type": "code",
   "execution_count": 133,
   "metadata": {},
   "outputs": [],
   "source": [
    "class5['Y3'].fillna(np.mean(class5['Y3']),inplace=True)"
   ]
  },
  {
   "cell_type": "code",
   "execution_count": 134,
   "metadata": {},
   "outputs": [],
   "source": [
    "class5['Z3'].fillna(np.mean(class5['Z3']),inplace=True)"
   ]
  },
  {
   "cell_type": "code",
   "execution_count": 135,
   "metadata": {},
   "outputs": [],
   "source": [
    "class5['X4'].fillna(np.mean(class5['X4']),inplace=True)"
   ]
  },
  {
   "cell_type": "code",
   "execution_count": 136,
   "metadata": {},
   "outputs": [],
   "source": [
    "class5['Y4'].fillna(np.mean(class5['Y4']),inplace=True)"
   ]
  },
  {
   "cell_type": "code",
   "execution_count": 137,
   "metadata": {},
   "outputs": [],
   "source": [
    "class5['Z4'].fillna(np.mean(class5['Z4']),inplace=True)"
   ]
  },
  {
   "cell_type": "code",
   "execution_count": 138,
   "metadata": {},
   "outputs": [],
   "source": [
    "class5['X5'].fillna(np.mean(class5['X5']),inplace=True)"
   ]
  },
  {
   "cell_type": "code",
   "execution_count": 139,
   "metadata": {},
   "outputs": [],
   "source": [
    "class5['Y5'].fillna(np.mean(class5['Y5']),inplace=True)"
   ]
  },
  {
   "cell_type": "code",
   "execution_count": 140,
   "metadata": {},
   "outputs": [],
   "source": [
    "class5['Z5'].fillna(np.mean(class5['Z5']),inplace=True)"
   ]
  },
  {
   "cell_type": "code",
   "execution_count": 141,
   "metadata": {},
   "outputs": [],
   "source": [
    "class5['X6'].fillna(np.mean(class5['X6']),inplace=True)"
   ]
  },
  {
   "cell_type": "code",
   "execution_count": 142,
   "metadata": {},
   "outputs": [],
   "source": [
    "class5['Y6'].fillna(np.mean(class5['Y6']),inplace=True)"
   ]
  },
  {
   "cell_type": "code",
   "execution_count": 143,
   "metadata": {},
   "outputs": [],
   "source": [
    "class5['Z6'].fillna(np.mean(class5['Z6']),inplace=True)"
   ]
  },
  {
   "cell_type": "code",
   "execution_count": 144,
   "metadata": {},
   "outputs": [],
   "source": [
    "class5['X7'].fillna(np.mean(class5['X7']),inplace=True)"
   ]
  },
  {
   "cell_type": "code",
   "execution_count": 145,
   "metadata": {},
   "outputs": [],
   "source": [
    "class5['Y7'].fillna(np.mean(class5['Y7']),inplace=True)"
   ]
  },
  {
   "cell_type": "code",
   "execution_count": 146,
   "metadata": {},
   "outputs": [],
   "source": [
    "class5['Z7'].fillna(np.mean(class5['Z7']),inplace=True)"
   ]
  },
  {
   "cell_type": "code",
   "execution_count": 147,
   "metadata": {},
   "outputs": [],
   "source": [
    "class5['X8'].fillna(np.mean(class5['X8']),inplace=True)"
   ]
  },
  {
   "cell_type": "code",
   "execution_count": 148,
   "metadata": {},
   "outputs": [],
   "source": [
    "class5['Y8'].fillna(np.mean(class5['Y8']),inplace=True)"
   ]
  },
  {
   "cell_type": "code",
   "execution_count": 149,
   "metadata": {},
   "outputs": [],
   "source": [
    "class5['Z8'].fillna(np.mean(class5['Z8']),inplace=True)"
   ]
  },
  {
   "cell_type": "code",
   "execution_count": 150,
   "metadata": {},
   "outputs": [],
   "source": [
    "class5['X9'].fillna(np.mean(class5['X9']),inplace=True)"
   ]
  },
  {
   "cell_type": "code",
   "execution_count": 151,
   "metadata": {},
   "outputs": [],
   "source": [
    "class5['Y9'].fillna(np.mean(class5['Y9']),inplace=True)"
   ]
  },
  {
   "cell_type": "code",
   "execution_count": 152,
   "metadata": {},
   "outputs": [],
   "source": [
    "class5['Z9'].fillna(np.mean(class5['Z9']),inplace=True)"
   ]
  },
  {
   "cell_type": "code",
   "execution_count": 153,
   "metadata": {},
   "outputs": [],
   "source": [
    "class5['X10'].fillna(np.mean(class5['X10']),inplace=True)"
   ]
  },
  {
   "cell_type": "code",
   "execution_count": 154,
   "metadata": {},
   "outputs": [],
   "source": [
    "class5['Y10'].fillna(np.mean(class5['Y10']),inplace=True)"
   ]
  },
  {
   "cell_type": "code",
   "execution_count": 155,
   "metadata": {},
   "outputs": [],
   "source": [
    "class5['Z10'].fillna(np.mean(class5['Z10']),inplace=True)"
   ]
  },
  {
   "cell_type": "code",
   "execution_count": 156,
   "metadata": {},
   "outputs": [],
   "source": [
    "class5['X11'].fillna(np.mean(class5['X11']),inplace=True)"
   ]
  },
  {
   "cell_type": "code",
   "execution_count": 157,
   "metadata": {},
   "outputs": [],
   "source": [
    "class5['Y11'].fillna(np.mean(class5['Y11']),inplace=True)"
   ]
  },
  {
   "cell_type": "code",
   "execution_count": 158,
   "metadata": {},
   "outputs": [],
   "source": [
    "class5['Z11'].fillna(np.mean(class5['Z11']),inplace=True)"
   ]
  },
  {
   "cell_type": "code",
   "execution_count": null,
   "metadata": {},
   "outputs": [],
   "source": []
  },
  {
   "cell_type": "code",
   "execution_count": 159,
   "metadata": {},
   "outputs": [
    {
     "data": {
      "text/plain": [
       "Class        0\n",
       "User         0\n",
       "X0           0\n",
       "Y0           0\n",
       "Z0           0\n",
       "X1           0\n",
       "Y1           0\n",
       "Z1           0\n",
       "X2           0\n",
       "Y2           0\n",
       "Z2           0\n",
       "X3           0\n",
       "Y3           0\n",
       "Z3           0\n",
       "X4           0\n",
       "Y4           0\n",
       "Z4           0\n",
       "X5           0\n",
       "Y5           0\n",
       "Z5           0\n",
       "X6           0\n",
       "Y6           0\n",
       "Z6           0\n",
       "X7           0\n",
       "Y7           0\n",
       "Z7           0\n",
       "X8           0\n",
       "Y8           0\n",
       "Z8           0\n",
       "X9           0\n",
       "Y9           0\n",
       "Z9           0\n",
       "X10          0\n",
       "Y10          0\n",
       "Z10          0\n",
       "X11      16265\n",
       "Y11      16265\n",
       "Z11      16265\n",
       "dtype: int64"
      ]
     },
     "execution_count": 159,
     "metadata": {},
     "output_type": "execute_result"
    }
   ],
   "source": [
    "class1.isnull().sum()"
   ]
  },
  {
   "cell_type": "code",
   "execution_count": 160,
   "metadata": {},
   "outputs": [
    {
     "data": {
      "text/plain": [
       "Class    0\n",
       "User     0\n",
       "X0       0\n",
       "Y0       0\n",
       "Z0       0\n",
       "X1       0\n",
       "Y1       0\n",
       "Z1       0\n",
       "X2       0\n",
       "Y2       0\n",
       "Z2       0\n",
       "X3       0\n",
       "Y3       0\n",
       "Z3       0\n",
       "X4       0\n",
       "Y4       0\n",
       "Z4       0\n",
       "X5       0\n",
       "Y5       0\n",
       "Z5       0\n",
       "X6       0\n",
       "Y6       0\n",
       "Z6       0\n",
       "X7       0\n",
       "Y7       0\n",
       "Z7       0\n",
       "X8       0\n",
       "Y8       0\n",
       "Z8       0\n",
       "X9       0\n",
       "Y9       0\n",
       "Z9       0\n",
       "X10      0\n",
       "Y10      0\n",
       "Z10      0\n",
       "X11      0\n",
       "Y11      0\n",
       "Z11      0\n",
       "dtype: int64"
      ]
     },
     "execution_count": 160,
     "metadata": {},
     "output_type": "execute_result"
    }
   ],
   "source": [
    "class2.isnull().sum()"
   ]
  },
  {
   "cell_type": "code",
   "execution_count": 161,
   "metadata": {},
   "outputs": [
    {
     "data": {
      "text/plain": [
       "Class        0\n",
       "User         0\n",
       "X0           0\n",
       "Y0           0\n",
       "Z0           0\n",
       "X1           0\n",
       "Y1           0\n",
       "Z1           0\n",
       "X2           0\n",
       "Y2           0\n",
       "Z2           0\n",
       "X3           0\n",
       "Y3           0\n",
       "Z3           0\n",
       "X4           0\n",
       "Y4           0\n",
       "Z4           0\n",
       "X5           0\n",
       "Y5           0\n",
       "Z5           0\n",
       "X6           0\n",
       "Y6           0\n",
       "Z6           0\n",
       "X7           0\n",
       "Y7           0\n",
       "Z7           0\n",
       "X8           0\n",
       "Y8           0\n",
       "Z8           0\n",
       "X9       16344\n",
       "Y9       16344\n",
       "Z9       16344\n",
       "X10      16344\n",
       "Y10      16344\n",
       "Z10      16344\n",
       "X11      16344\n",
       "Y11      16344\n",
       "Z11      16344\n",
       "dtype: int64"
      ]
     },
     "execution_count": 161,
     "metadata": {},
     "output_type": "execute_result"
    }
   ],
   "source": [
    "class3.isnull().sum()"
   ]
  },
  {
   "cell_type": "code",
   "execution_count": 162,
   "metadata": {
    "scrolled": false
   },
   "outputs": [
    {
     "data": {
      "text/plain": [
       "Class        0\n",
       "User         0\n",
       "X0           0\n",
       "Y0           0\n",
       "Z0           0\n",
       "X1           0\n",
       "Y1           0\n",
       "Z1           0\n",
       "X2           0\n",
       "Y2           0\n",
       "Z2           0\n",
       "X3           0\n",
       "Y3           0\n",
       "Z3           0\n",
       "X4           0\n",
       "Y4           0\n",
       "Z4           0\n",
       "X5           0\n",
       "Y5           0\n",
       "Z5           0\n",
       "X6           0\n",
       "Y6           0\n",
       "Z6           0\n",
       "X7           0\n",
       "Y7           0\n",
       "Z7           0\n",
       "X8           0\n",
       "Y8           0\n",
       "Z8           0\n",
       "X9           0\n",
       "Y9           0\n",
       "Z9           0\n",
       "X10      14775\n",
       "Y10      14775\n",
       "Z10      14775\n",
       "X11      14775\n",
       "Y11      14775\n",
       "Z11      14775\n",
       "dtype: int64"
      ]
     },
     "execution_count": 162,
     "metadata": {},
     "output_type": "execute_result"
    }
   ],
   "source": [
    "class4.isnull().sum()"
   ]
  },
  {
   "cell_type": "code",
   "execution_count": 163,
   "metadata": {
    "scrolled": false
   },
   "outputs": [
    {
     "data": {
      "text/plain": [
       "Class        0\n",
       "User         0\n",
       "X0           0\n",
       "Y0           0\n",
       "Z0           0\n",
       "X1           0\n",
       "Y1           0\n",
       "Z1           0\n",
       "X2           0\n",
       "Y2           0\n",
       "Z2           0\n",
       "X3           0\n",
       "Y3           0\n",
       "Z3           0\n",
       "X4           0\n",
       "Y4           0\n",
       "Z4           0\n",
       "X5           0\n",
       "Y5           0\n",
       "Z5           0\n",
       "X6           0\n",
       "Y6           0\n",
       "Z6           0\n",
       "X7           0\n",
       "Y7           0\n",
       "Z7           0\n",
       "X8           0\n",
       "Y8           0\n",
       "Z8           0\n",
       "X9           0\n",
       "Y9           0\n",
       "Z9           0\n",
       "X10          0\n",
       "Y10          0\n",
       "Z10          0\n",
       "X11      15733\n",
       "Y11      15733\n",
       "Z11      15733\n",
       "dtype: int64"
      ]
     },
     "execution_count": 163,
     "metadata": {},
     "output_type": "execute_result"
    }
   ],
   "source": [
    "class5.isnull().sum()"
   ]
  },
  {
   "cell_type": "code",
   "execution_count": 164,
   "metadata": {},
   "outputs": [
    {
     "data": {
      "text/html": [
       "<div>\n",
       "<style scoped>\n",
       "    .dataframe tbody tr th:only-of-type {\n",
       "        vertical-align: middle;\n",
       "    }\n",
       "\n",
       "    .dataframe tbody tr th {\n",
       "        vertical-align: top;\n",
       "    }\n",
       "\n",
       "    .dataframe thead th {\n",
       "        text-align: right;\n",
       "    }\n",
       "</style>\n",
       "<table border=\"1\" class=\"dataframe\">\n",
       "  <thead>\n",
       "    <tr style=\"text-align: right;\">\n",
       "      <th></th>\n",
       "      <th>Class</th>\n",
       "      <th>User</th>\n",
       "      <th>X0</th>\n",
       "      <th>Y0</th>\n",
       "      <th>Z0</th>\n",
       "      <th>X1</th>\n",
       "      <th>Y1</th>\n",
       "      <th>Z1</th>\n",
       "      <th>X2</th>\n",
       "      <th>Y2</th>\n",
       "      <th>...</th>\n",
       "      <th>Z8</th>\n",
       "      <th>X9</th>\n",
       "      <th>Y9</th>\n",
       "      <th>Z9</th>\n",
       "      <th>X10</th>\n",
       "      <th>Y10</th>\n",
       "      <th>Z10</th>\n",
       "      <th>X11</th>\n",
       "      <th>Y11</th>\n",
       "      <th>Z11</th>\n",
       "    </tr>\n",
       "  </thead>\n",
       "  <tbody>\n",
       "    <tr>\n",
       "      <th>1</th>\n",
       "      <td>1.0</td>\n",
       "      <td>0.0</td>\n",
       "      <td>54.263880</td>\n",
       "      <td>71.466776</td>\n",
       "      <td>-64.807709</td>\n",
       "      <td>76.895635</td>\n",
       "      <td>42.462500</td>\n",
       "      <td>-72.780545</td>\n",
       "      <td>36.621229</td>\n",
       "      <td>81.680557</td>\n",
       "      <td>...</td>\n",
       "      <td>-1.07738</td>\n",
       "      <td>37.172842</td>\n",
       "      <td>87.562493</td>\n",
       "      <td>-10.66372</td>\n",
       "      <td>54.057026</td>\n",
       "      <td>76.311915</td>\n",
       "      <td>-27.775952</td>\n",
       "      <td>NaN</td>\n",
       "      <td>NaN</td>\n",
       "      <td>NaN</td>\n",
       "    </tr>\n",
       "    <tr>\n",
       "      <th>2</th>\n",
       "      <td>1.0</td>\n",
       "      <td>0.0</td>\n",
       "      <td>56.527558</td>\n",
       "      <td>72.266609</td>\n",
       "      <td>-61.935252</td>\n",
       "      <td>39.135978</td>\n",
       "      <td>82.538530</td>\n",
       "      <td>-49.596509</td>\n",
       "      <td>79.223743</td>\n",
       "      <td>43.254091</td>\n",
       "      <td>...</td>\n",
       "      <td>-1.07738</td>\n",
       "      <td>37.172842</td>\n",
       "      <td>87.562493</td>\n",
       "      <td>-10.66372</td>\n",
       "      <td>54.057026</td>\n",
       "      <td>76.311915</td>\n",
       "      <td>-27.775952</td>\n",
       "      <td>NaN</td>\n",
       "      <td>NaN</td>\n",
       "      <td>NaN</td>\n",
       "    </tr>\n",
       "    <tr>\n",
       "      <th>3</th>\n",
       "      <td>1.0</td>\n",
       "      <td>0.0</td>\n",
       "      <td>55.849928</td>\n",
       "      <td>72.469064</td>\n",
       "      <td>-62.562788</td>\n",
       "      <td>37.988804</td>\n",
       "      <td>82.631347</td>\n",
       "      <td>-50.606259</td>\n",
       "      <td>78.451526</td>\n",
       "      <td>43.567403</td>\n",
       "      <td>...</td>\n",
       "      <td>-1.07738</td>\n",
       "      <td>37.172842</td>\n",
       "      <td>87.562493</td>\n",
       "      <td>-10.66372</td>\n",
       "      <td>54.057026</td>\n",
       "      <td>76.311915</td>\n",
       "      <td>-27.775952</td>\n",
       "      <td>NaN</td>\n",
       "      <td>NaN</td>\n",
       "      <td>NaN</td>\n",
       "    </tr>\n",
       "    <tr>\n",
       "      <th>4</th>\n",
       "      <td>1.0</td>\n",
       "      <td>0.0</td>\n",
       "      <td>55.329647</td>\n",
       "      <td>71.707275</td>\n",
       "      <td>-63.688956</td>\n",
       "      <td>36.561863</td>\n",
       "      <td>81.868749</td>\n",
       "      <td>-52.752784</td>\n",
       "      <td>86.320630</td>\n",
       "      <td>68.214645</td>\n",
       "      <td>...</td>\n",
       "      <td>-1.07738</td>\n",
       "      <td>37.172842</td>\n",
       "      <td>87.562493</td>\n",
       "      <td>-10.66372</td>\n",
       "      <td>54.057026</td>\n",
       "      <td>76.311915</td>\n",
       "      <td>-27.775952</td>\n",
       "      <td>NaN</td>\n",
       "      <td>NaN</td>\n",
       "      <td>NaN</td>\n",
       "    </tr>\n",
       "    <tr>\n",
       "      <th>5</th>\n",
       "      <td>1.0</td>\n",
       "      <td>0.0</td>\n",
       "      <td>55.142401</td>\n",
       "      <td>71.435607</td>\n",
       "      <td>-64.177303</td>\n",
       "      <td>36.175818</td>\n",
       "      <td>81.556874</td>\n",
       "      <td>-53.475747</td>\n",
       "      <td>76.986143</td>\n",
       "      <td>42.426849</td>\n",
       "      <td>...</td>\n",
       "      <td>-1.07738</td>\n",
       "      <td>37.172842</td>\n",
       "      <td>87.562493</td>\n",
       "      <td>-10.66372</td>\n",
       "      <td>54.057026</td>\n",
       "      <td>76.311915</td>\n",
       "      <td>-27.775952</td>\n",
       "      <td>NaN</td>\n",
       "      <td>NaN</td>\n",
       "      <td>NaN</td>\n",
       "    </tr>\n",
       "  </tbody>\n",
       "</table>\n",
       "<p>5 rows × 38 columns</p>\n",
       "</div>"
      ],
      "text/plain": [
       "   Class  User         X0         Y0         Z0         X1         Y1  \\\n",
       "1    1.0   0.0  54.263880  71.466776 -64.807709  76.895635  42.462500   \n",
       "2    1.0   0.0  56.527558  72.266609 -61.935252  39.135978  82.538530   \n",
       "3    1.0   0.0  55.849928  72.469064 -62.562788  37.988804  82.631347   \n",
       "4    1.0   0.0  55.329647  71.707275 -63.688956  36.561863  81.868749   \n",
       "5    1.0   0.0  55.142401  71.435607 -64.177303  36.175818  81.556874   \n",
       "\n",
       "          Z1         X2         Y2  ...       Z8         X9         Y9  \\\n",
       "1 -72.780545  36.621229  81.680557  ... -1.07738  37.172842  87.562493   \n",
       "2 -49.596509  79.223743  43.254091  ... -1.07738  37.172842  87.562493   \n",
       "3 -50.606259  78.451526  43.567403  ... -1.07738  37.172842  87.562493   \n",
       "4 -52.752784  86.320630  68.214645  ... -1.07738  37.172842  87.562493   \n",
       "5 -53.475747  76.986143  42.426849  ... -1.07738  37.172842  87.562493   \n",
       "\n",
       "         Z9        X10        Y10        Z10  X11  Y11  Z11  \n",
       "1 -10.66372  54.057026  76.311915 -27.775952  NaN  NaN  NaN  \n",
       "2 -10.66372  54.057026  76.311915 -27.775952  NaN  NaN  NaN  \n",
       "3 -10.66372  54.057026  76.311915 -27.775952  NaN  NaN  NaN  \n",
       "4 -10.66372  54.057026  76.311915 -27.775952  NaN  NaN  NaN  \n",
       "5 -10.66372  54.057026  76.311915 -27.775952  NaN  NaN  NaN  \n",
       "\n",
       "[5 rows x 38 columns]"
      ]
     },
     "execution_count": 164,
     "metadata": {},
     "output_type": "execute_result"
    }
   ],
   "source": [
    "df1 = pd.concat([class1,class2,class3,class4,class5])\n",
    "df1.head()"
   ]
  },
  {
   "cell_type": "code",
   "execution_count": 165,
   "metadata": {},
   "outputs": [
    {
     "data": {
      "text/plain": [
       "Class        0\n",
       "User         0\n",
       "X0           0\n",
       "Y0           0\n",
       "Z0           0\n",
       "X1           0\n",
       "Y1           0\n",
       "Z1           0\n",
       "X2           0\n",
       "Y2           0\n",
       "Z2           0\n",
       "X3           0\n",
       "Y3           0\n",
       "Z3           0\n",
       "X4           0\n",
       "Y4           0\n",
       "Z4           0\n",
       "X5           0\n",
       "Y5           0\n",
       "Z5           0\n",
       "X6           0\n",
       "Y6           0\n",
       "Z6           0\n",
       "X7           0\n",
       "Y7           0\n",
       "Z7           0\n",
       "X8           0\n",
       "Y8           0\n",
       "Z8           0\n",
       "X9       16344\n",
       "Y9       16344\n",
       "Z9       16344\n",
       "X10      31119\n",
       "Y10      31119\n",
       "Z10      31119\n",
       "X11      63117\n",
       "Y11      63117\n",
       "Z11      63117\n",
       "dtype: int64"
      ]
     },
     "execution_count": 165,
     "metadata": {},
     "output_type": "execute_result"
    }
   ],
   "source": [
    "df1.isnull().sum()"
   ]
  },
  {
   "cell_type": "code",
   "execution_count": 166,
   "metadata": {},
   "outputs": [],
   "source": [
    "df1.drop(['X9','Y9','Z9','X10','Y10','Z10','X11','Y11','Z11'],axis=1,inplace=True)"
   ]
  },
  {
   "cell_type": "code",
   "execution_count": 167,
   "metadata": {},
   "outputs": [
    {
     "data": {
      "text/html": [
       "<div>\n",
       "<style scoped>\n",
       "    .dataframe tbody tr th:only-of-type {\n",
       "        vertical-align: middle;\n",
       "    }\n",
       "\n",
       "    .dataframe tbody tr th {\n",
       "        vertical-align: top;\n",
       "    }\n",
       "\n",
       "    .dataframe thead th {\n",
       "        text-align: right;\n",
       "    }\n",
       "</style>\n",
       "<table border=\"1\" class=\"dataframe\">\n",
       "  <thead>\n",
       "    <tr style=\"text-align: right;\">\n",
       "      <th></th>\n",
       "      <th>Class</th>\n",
       "      <th>User</th>\n",
       "      <th>X0</th>\n",
       "      <th>Y0</th>\n",
       "      <th>Z0</th>\n",
       "      <th>X1</th>\n",
       "      <th>Y1</th>\n",
       "      <th>Z1</th>\n",
       "      <th>X2</th>\n",
       "      <th>Y2</th>\n",
       "      <th>...</th>\n",
       "      <th>Z5</th>\n",
       "      <th>X6</th>\n",
       "      <th>Y6</th>\n",
       "      <th>Z6</th>\n",
       "      <th>X7</th>\n",
       "      <th>Y7</th>\n",
       "      <th>Z7</th>\n",
       "      <th>X8</th>\n",
       "      <th>Y8</th>\n",
       "      <th>Z8</th>\n",
       "    </tr>\n",
       "  </thead>\n",
       "  <tbody>\n",
       "    <tr>\n",
       "      <th>1</th>\n",
       "      <td>1.0</td>\n",
       "      <td>0.0</td>\n",
       "      <td>54.263880</td>\n",
       "      <td>71.466776</td>\n",
       "      <td>-64.807709</td>\n",
       "      <td>76.895635</td>\n",
       "      <td>42.462500</td>\n",
       "      <td>-72.780545</td>\n",
       "      <td>36.621229</td>\n",
       "      <td>81.680557</td>\n",
       "      <td>...</td>\n",
       "      <td>-52.682184</td>\n",
       "      <td>36.125151</td>\n",
       "      <td>52.537321</td>\n",
       "      <td>-56.444042</td>\n",
       "      <td>25.448563</td>\n",
       "      <td>97.622121</td>\n",
       "      <td>1.356154</td>\n",
       "      <td>33.041242</td>\n",
       "      <td>100.140647</td>\n",
       "      <td>-1.07738</td>\n",
       "    </tr>\n",
       "    <tr>\n",
       "      <th>2</th>\n",
       "      <td>1.0</td>\n",
       "      <td>0.0</td>\n",
       "      <td>56.527558</td>\n",
       "      <td>72.266609</td>\n",
       "      <td>-61.935252</td>\n",
       "      <td>39.135978</td>\n",
       "      <td>82.538530</td>\n",
       "      <td>-49.596509</td>\n",
       "      <td>79.223743</td>\n",
       "      <td>43.254091</td>\n",
       "      <td>...</td>\n",
       "      <td>-52.682184</td>\n",
       "      <td>36.125151</td>\n",
       "      <td>52.537321</td>\n",
       "      <td>-56.444042</td>\n",
       "      <td>25.448563</td>\n",
       "      <td>97.622121</td>\n",
       "      <td>1.356154</td>\n",
       "      <td>33.041242</td>\n",
       "      <td>100.140647</td>\n",
       "      <td>-1.07738</td>\n",
       "    </tr>\n",
       "    <tr>\n",
       "      <th>3</th>\n",
       "      <td>1.0</td>\n",
       "      <td>0.0</td>\n",
       "      <td>55.849928</td>\n",
       "      <td>72.469064</td>\n",
       "      <td>-62.562788</td>\n",
       "      <td>37.988804</td>\n",
       "      <td>82.631347</td>\n",
       "      <td>-50.606259</td>\n",
       "      <td>78.451526</td>\n",
       "      <td>43.567403</td>\n",
       "      <td>...</td>\n",
       "      <td>-52.682184</td>\n",
       "      <td>36.125151</td>\n",
       "      <td>52.537321</td>\n",
       "      <td>-56.444042</td>\n",
       "      <td>25.448563</td>\n",
       "      <td>97.622121</td>\n",
       "      <td>1.356154</td>\n",
       "      <td>33.041242</td>\n",
       "      <td>100.140647</td>\n",
       "      <td>-1.07738</td>\n",
       "    </tr>\n",
       "    <tr>\n",
       "      <th>4</th>\n",
       "      <td>1.0</td>\n",
       "      <td>0.0</td>\n",
       "      <td>55.329647</td>\n",
       "      <td>71.707275</td>\n",
       "      <td>-63.688956</td>\n",
       "      <td>36.561863</td>\n",
       "      <td>81.868749</td>\n",
       "      <td>-52.752784</td>\n",
       "      <td>86.320630</td>\n",
       "      <td>68.214645</td>\n",
       "      <td>...</td>\n",
       "      <td>-52.682184</td>\n",
       "      <td>36.125151</td>\n",
       "      <td>52.537321</td>\n",
       "      <td>-56.444042</td>\n",
       "      <td>25.448563</td>\n",
       "      <td>97.622121</td>\n",
       "      <td>1.356154</td>\n",
       "      <td>33.041242</td>\n",
       "      <td>100.140647</td>\n",
       "      <td>-1.07738</td>\n",
       "    </tr>\n",
       "    <tr>\n",
       "      <th>5</th>\n",
       "      <td>1.0</td>\n",
       "      <td>0.0</td>\n",
       "      <td>55.142401</td>\n",
       "      <td>71.435607</td>\n",
       "      <td>-64.177303</td>\n",
       "      <td>36.175818</td>\n",
       "      <td>81.556874</td>\n",
       "      <td>-53.475747</td>\n",
       "      <td>76.986143</td>\n",
       "      <td>42.426849</td>\n",
       "      <td>...</td>\n",
       "      <td>-52.682184</td>\n",
       "      <td>36.125151</td>\n",
       "      <td>52.537321</td>\n",
       "      <td>-56.444042</td>\n",
       "      <td>25.448563</td>\n",
       "      <td>97.622121</td>\n",
       "      <td>1.356154</td>\n",
       "      <td>33.041242</td>\n",
       "      <td>100.140647</td>\n",
       "      <td>-1.07738</td>\n",
       "    </tr>\n",
       "  </tbody>\n",
       "</table>\n",
       "<p>5 rows × 29 columns</p>\n",
       "</div>"
      ],
      "text/plain": [
       "   Class  User         X0         Y0         Z0         X1         Y1  \\\n",
       "1    1.0   0.0  54.263880  71.466776 -64.807709  76.895635  42.462500   \n",
       "2    1.0   0.0  56.527558  72.266609 -61.935252  39.135978  82.538530   \n",
       "3    1.0   0.0  55.849928  72.469064 -62.562788  37.988804  82.631347   \n",
       "4    1.0   0.0  55.329647  71.707275 -63.688956  36.561863  81.868749   \n",
       "5    1.0   0.0  55.142401  71.435607 -64.177303  36.175818  81.556874   \n",
       "\n",
       "          Z1         X2         Y2  ...         Z5         X6         Y6  \\\n",
       "1 -72.780545  36.621229  81.680557  ... -52.682184  36.125151  52.537321   \n",
       "2 -49.596509  79.223743  43.254091  ... -52.682184  36.125151  52.537321   \n",
       "3 -50.606259  78.451526  43.567403  ... -52.682184  36.125151  52.537321   \n",
       "4 -52.752784  86.320630  68.214645  ... -52.682184  36.125151  52.537321   \n",
       "5 -53.475747  76.986143  42.426849  ... -52.682184  36.125151  52.537321   \n",
       "\n",
       "          Z6         X7         Y7        Z7         X8          Y8       Z8  \n",
       "1 -56.444042  25.448563  97.622121  1.356154  33.041242  100.140647 -1.07738  \n",
       "2 -56.444042  25.448563  97.622121  1.356154  33.041242  100.140647 -1.07738  \n",
       "3 -56.444042  25.448563  97.622121  1.356154  33.041242  100.140647 -1.07738  \n",
       "4 -56.444042  25.448563  97.622121  1.356154  33.041242  100.140647 -1.07738  \n",
       "5 -56.444042  25.448563  97.622121  1.356154  33.041242  100.140647 -1.07738  \n",
       "\n",
       "[5 rows x 29 columns]"
      ]
     },
     "execution_count": 167,
     "metadata": {},
     "output_type": "execute_result"
    }
   ],
   "source": [
    "df1.head()"
   ]
  },
  {
   "cell_type": "code",
   "execution_count": 168,
   "metadata": {},
   "outputs": [
    {
     "name": "stdout",
     "output_type": "stream",
     "text": [
      "<class 'pandas.core.frame.DataFrame'>\n",
      "Int64Index: 78095 entries, 1 to 78095\n",
      "Data columns (total 29 columns):\n",
      "Class    78095 non-null float64\n",
      "User     78095 non-null float64\n",
      "X0       78095 non-null float64\n",
      "Y0       78095 non-null float64\n",
      "Z0       78095 non-null float64\n",
      "X1       78095 non-null float64\n",
      "Y1       78095 non-null float64\n",
      "Z1       78095 non-null float64\n",
      "X2       78095 non-null float64\n",
      "Y2       78095 non-null float64\n",
      "Z2       78095 non-null float64\n",
      "X3       78095 non-null float64\n",
      "Y3       78095 non-null float64\n",
      "Z3       78095 non-null float64\n",
      "X4       78095 non-null float64\n",
      "Y4       78095 non-null float64\n",
      "Z4       78095 non-null float64\n",
      "X5       78095 non-null float64\n",
      "Y5       78095 non-null float64\n",
      "Z5       78095 non-null float64\n",
      "X6       78095 non-null float64\n",
      "Y6       78095 non-null float64\n",
      "Z6       78095 non-null float64\n",
      "X7       78095 non-null float64\n",
      "Y7       78095 non-null float64\n",
      "Z7       78095 non-null float64\n",
      "X8       78095 non-null float64\n",
      "Y8       78095 non-null float64\n",
      "Z8       78095 non-null float64\n",
      "dtypes: float64(29)\n",
      "memory usage: 17.9 MB\n"
     ]
    }
   ],
   "source": [
    "df1.info()"
   ]
  },
  {
   "cell_type": "code",
   "execution_count": 169,
   "metadata": {},
   "outputs": [],
   "source": [
    "df1['Class']=df['Class'].astype('object')\n",
    "df1['User']=df['User'].astype('object')"
   ]
  },
  {
   "cell_type": "code",
   "execution_count": 170,
   "metadata": {},
   "outputs": [
    {
     "name": "stdout",
     "output_type": "stream",
     "text": [
      "<class 'pandas.core.frame.DataFrame'>\n",
      "Int64Index: 78095 entries, 1 to 78095\n",
      "Data columns (total 29 columns):\n",
      "Class    78095 non-null object\n",
      "User     78095 non-null object\n",
      "X0       78095 non-null float64\n",
      "Y0       78095 non-null float64\n",
      "Z0       78095 non-null float64\n",
      "X1       78095 non-null float64\n",
      "Y1       78095 non-null float64\n",
      "Z1       78095 non-null float64\n",
      "X2       78095 non-null float64\n",
      "Y2       78095 non-null float64\n",
      "Z2       78095 non-null float64\n",
      "X3       78095 non-null float64\n",
      "Y3       78095 non-null float64\n",
      "Z3       78095 non-null float64\n",
      "X4       78095 non-null float64\n",
      "Y4       78095 non-null float64\n",
      "Z4       78095 non-null float64\n",
      "X5       78095 non-null float64\n",
      "Y5       78095 non-null float64\n",
      "Z5       78095 non-null float64\n",
      "X6       78095 non-null float64\n",
      "Y6       78095 non-null float64\n",
      "Z6       78095 non-null float64\n",
      "X7       78095 non-null float64\n",
      "Y7       78095 non-null float64\n",
      "Z7       78095 non-null float64\n",
      "X8       78095 non-null float64\n",
      "Y8       78095 non-null float64\n",
      "Z8       78095 non-null float64\n",
      "dtypes: float64(27), object(2)\n",
      "memory usage: 17.9+ MB\n"
     ]
    }
   ],
   "source": [
    "df1.info()"
   ]
  },
  {
   "cell_type": "code",
   "execution_count": 170,
   "metadata": {},
   "outputs": [
    {
     "data": {
      "image/png": "[encoded data removed]",
      "text/plain": [
       "<Figure size 432x288 with 1 Axes>"
      ]
     },
     "metadata": {
      "needs_background": "light"
     },
     "output_type": "display_data"
    }
   ],
   "source": [
    "sns.distplot(df1['X1'])\n",
    "plt.show()"
   ]
  },
  {
   "cell_type": "code",
   "execution_count": 177,
   "metadata": {},
   "outputs": [
    {
     "data": {
      "image/png": "[encoded data removed]",
      "text/plain": [
       "<Figure size 432x288 with 1 Axes>"
      ]
     },
     "metadata": {
      "needs_background": "light"
     },
     "output_type": "display_data"
    },
    {
     "data": {
      "image/png": "[encoded data removed]",
      "text/plain": [
       "<Figure size 432x288 with 1 Axes>"
      ]
     },
     "metadata": {
      "needs_background": "light"
     },
     "output_type": "display_data"
    },
    {
     "data": {
      "image/png": "[encoded data removed]",
      "text/plain": [
       "<Figure size 432x288 with 1 Axes>"
      ]
     },
     "metadata": {
      "needs_background": "light"
     },
     "output_type": "display_data"
    },
    {
     "data": {
      "image/png": "[encoded data removed]",
      "text/plain": [
       "<Figure size 432x288 with 1 Axes>"
      ]
     },
     "metadata": {
      "needs_background": "light"
     },
     "output_type": "display_data"
    },
    {
     "data": {
      "image/png": "[encoded data removed]",
      "text/plain": [
       "<Figure size 432x288 with 1 Axes>"
      ]
     },
     "metadata": {
      "needs_background": "light"
     },
     "output_type": "display_data"
    },
    {
     "data": {
      "image/png": "[encoded data removed]",
      "text/plain": [
       "<Figure size 432x288 with 1 Axes>"
      ]
     },
     "metadata": {
      "needs_background": "light"
     },
     "output_type": "display_data"
    },
    {
     "data": {
      "image/png": "[encoded data removed]",
      "text/plain": [
       "<Figure size 432x288 with 1 Axes>"
      ]
     },
     "metadata": {
      "needs_background": "light"
     },
     "output_type": "display_data"
    },
    {
     "data": {
      "image/png": "[encoded data removed]",
      "text/plain": [
       "<Figure size 432x288 with 1 Axes>"
      ]
     },
     "metadata": {
      "needs_background": "light"
     },
     "output_type": "display_data"
    },
    {
     "data": {
      "image/png": "[encoded data removed]",
      "text/plain": [
       "<Figure size 432x288 with 1 Axes>"
      ]
     },
     "metadata": {
      "needs_background": "light"
     },
     "output_type": "display_data"
    },
    {
     "data": {
      "image/png": "[encoded data removed]",
      "text/plain": [
       "<Figure size 432x288 with 1 Axes>"
      ]
     },
     "metadata": {
      "needs_background": "light"
     },
     "output_type": "display_data"
    },
    {
     "data": {
      "image/png": "[encoded data removed]",
      "text/plain": [
       "<Figure size 432x288 with 1 Axes>"
      ]
     },
     "metadata": {
      "needs_background": "light"
     },
     "output_type": "display_data"
    },
    {
     "data": {
      "image/png": "[encoded data removed]",
      "text/plain": [
       "<Figure size 432x288 with 1 Axes>"
      ]
     },
     "metadata": {
      "needs_background": "light"
     },
     "output_type": "display_data"
    },
    {
     "data": {
      "image/png": "[encoded data removed]",
      "text/plain": [
       "<Figure size 432x288 with 1 Axes>"
      ]
     },
     "metadata": {
      "needs_background": "light"
     },
     "output_type": "display_data"
    },
    {
     "data": {
      "image/png": "[encoded data removed]",
      "text/plain": [
       "<Figure size 432x288 with 1 Axes>"
      ]
     },
     "metadata": {
      "needs_background": "light"
     },
     "output_type": "display_data"
    },
    {
     "data": {
      "image/png": "[encoded data removed]",
      "text/plain": [
       "<Figure size 432x288 with 1 Axes>"
      ]
     },
     "metadata": {
      "needs_background": "light"
     },
     "output_type": "display_data"
    },
    {
     "data": {
      "image/png": "[encoded data removed]",
      "text/plain": [
       "<Figure size 432x288 with 1 Axes>"
      ]
     },
     "metadata": {
      "needs_background": "light"
     },
     "output_type": "display_data"
    },
    {
     "data": {
      "image/png": "[encoded data removed]",
      "text/plain": [
       "<Figure size 432x288 with 1 Axes>"
      ]
     },
     "metadata": {
      "needs_background": "light"
     },
     "output_type": "display_data"
    },
    {
     "data": {
      "image/png": "[encoded data removed]",
      "text/plain": [
       "<Figure size 432x288 with 1 Axes>"
      ]
     },
     "metadata": {
      "needs_background": "light"
     },
     "output_type": "display_data"
    },
    {
     "data": {
      "image/png": "[encoded data removed]",
      "text/plain": [
       "<Figure size 432x288 with 1 Axes>"
      ]
     },
     "metadata": {
      "needs_background": "light"
     },
     "output_type": "display_data"
    },
    {
     "data": {
      "image/png": "[encoded data removed]",
      "text/plain": [
       "<Figure size 432x288 with 1 Axes>"
      ]
     },
     "metadata": {
      "needs_background": "light"
     },
     "output_type": "display_data"
    },
    {
     "data": {
      "image/png": "[encoded data removed]",
      "text/plain": [
       "<Figure size 432x288 with 1 Axes>"
      ]
     },
     "metadata": {
      "needs_background": "light"
     },
     "output_type": "display_data"
    },
    {
     "data": {
      "image/png": "[encoded data removed]",
      "text/plain": [
       "<Figure size 432x288 with 1 Axes>"
      ]
     },
     "metadata": {
      "needs_background": "light"
     },
     "output_type": "display_data"
    },
    {
     "data": {
      "image/png": "[encoded data removed]",
      "text/plain": [
       "<Figure size 432x288 with 1 Axes>"
      ]
     },
     "metadata": {
      "needs_background": "light"
     },
     "output_type": "display_data"
    },
    {
     "data": {
      "image/png": "[encoded data removed]",
      "text/plain": [
       "<Figure size 432x288 with 1 Axes>"
      ]
     },
     "metadata": {
      "needs_background": "light"
     },
     "output_type": "display_data"
    },
    {
     "data": {
      "image/png": "[encoded data removed]",
      "text/plain": [
       "<Figure size 432x288 with 1 Axes>"
      ]
     },
     "metadata": {
      "needs_background": "light"
     },
     "output_type": "display_data"
    },
    {
     "data": {
      "image/png": "[encoded data removed]",
      "text/plain": [
       "<Figure size 432x288 with 1 Axes>"
      ]
     },
     "metadata": {
      "needs_background": "light"
     },
     "output_type": "display_data"
    },
    {
     "data": {
      "image/png": "[encoded data removed]",
      "text/plain": [
       "<Figure size 432x288 with 1 Axes>"
      ]
     },
     "metadata": {
      "needs_background": "light"
     },
     "output_type": "display_data"
    },
    {
     "data": {
      "image/png": "[encoded data removed]",
      "text/plain": [
       "<Figure size 432x288 with 1 Axes>"
      ]
     },
     "metadata": {
      "needs_background": "light"
     },
     "output_type": "display_data"
    },
    {
     "data": {
      "image/png": "[encoded data removed]",
      "text/plain": [
       "<Figure size 432x288 with 1 Axes>"
      ]
     },
     "metadata": {
      "needs_background": "light"
     },
     "output_type": "display_data"
    },
    {
     "data": {
      "image/png": "[encoded data removed]",
      "text/plain": [
       "<Figure size 432x288 with 1 Axes>"
      ]
     },
     "metadata": {
      "needs_background": "light"
     },
     "output_type": "display_data"
    },
    {
     "data": {
      "image/png": "[encoded data removed]",
      "text/plain": [
       "<Figure size 432x288 with 1 Axes>"
      ]
     },
     "metadata": {
      "needs_background": "light"
     },
     "output_type": "display_data"
    },
    {
     "data": {
      "image/png": "[encoded data removed]",
      "text/plain": [
       "<Figure size 432x288 with 1 Axes>"
      ]
     },
     "metadata": {
      "needs_background": "light"
     },
     "output_type": "display_data"
    },
    {
     "data": {
      "image/png": "[encoded data removed]",
      "text/plain": [
       "<Figure size 432x288 with 1 Axes>"
      ]
     },
     "metadata": {
      "needs_background": "light"
     },
     "output_type": "display_data"
    },
    {
     "data": {
      "image/png": "[encoded data removed]",
      "text/plain": [
       "<Figure size 432x288 with 1 Axes>"
      ]
     },
     "metadata": {
      "needs_background": "light"
     },
     "output_type": "display_data"
    },
    {
     "data": {
      "image/png": "[encoded data removed]",
      "text/plain": [
       "<Figure size 432x288 with 1 Axes>"
      ]
     },
     "metadata": {
      "needs_background": "light"
     },
     "output_type": "display_data"
    },
    {
     "data": {
      "image/png": "[encoded data removed]",
      "text/plain": [
       "<Figure size 432x288 with 1 Axes>"
      ]
     },
     "metadata": {
      "needs_background": "light"
     },
     "output_type": "display_data"
    },
    {
     "data": {
      "image/png": "[encoded data removed]",
      "text/plain": [
       "<Figure size 432x288 with 1 Axes>"
      ]
     },
     "metadata": {
      "needs_background": "light"
     },
     "output_type": "display_data"
    }
   ],
   "source": [
    "for i in range(2,39):\n",
    "    sns.distplot(df1.iloc[i])\n",
    "    plt.show()"
   ]
  },
  {
   "cell_type": "markdown",
   "metadata": {},
   "source": [
    "#### TRAIN TEST SPLIT :"
   ]
  },
  {
   "cell_type": "code",
   "execution_count": 171,
   "metadata": {},
   "outputs": [],
   "source": [
    "X=df.drop('Class',axis=1)\n",
    "y=df['Class']"
   ]
  },
  {
   "cell_type": "code",
   "execution_count": 172,
   "metadata": {},
   "outputs": [],
   "source": [
    "from sklearn.model_selection import train_test_split"
   ]
  },
  {
   "cell_type": "code",
   "execution_count": 173,
   "metadata": {},
   "outputs": [],
   "source": [
    "X_train, X_test, y_train, y_test = train_test_split(X,y,test_size=0.3,random_state = 44)"
   ]
  },
  {
   "cell_type": "code",
   "execution_count": 174,
   "metadata": {},
   "outputs": [
    {
     "data": {
      "text/plain": [
       "(54667, 37)"
      ]
     },
     "execution_count": 174,
     "metadata": {},
     "output_type": "execute_result"
    }
   ],
   "source": [
    "X_train.shape"
   ]
  },
  {
   "cell_type": "code",
   "execution_count": 175,
   "metadata": {},
   "outputs": [
    {
     "data": {
      "text/plain": [
       "(54667,)"
      ]
     },
     "execution_count": 175,
     "metadata": {},
     "output_type": "execute_result"
    }
   ],
   "source": [
    "y_train.shape"
   ]
  },
  {
   "cell_type": "code",
   "execution_count": 176,
   "metadata": {},
   "outputs": [
    {
     "data": {
      "text/plain": [
       "(23429, 37)"
      ]
     },
     "execution_count": 176,
     "metadata": {},
     "output_type": "execute_result"
    }
   ],
   "source": [
    "X_test.shape"
   ]
  },
  {
   "cell_type": "code",
   "execution_count": 177,
   "metadata": {},
   "outputs": [
    {
     "data": {
      "text/plain": [
       "(23429,)"
      ]
     },
     "execution_count": 177,
     "metadata": {},
     "output_type": "execute_result"
    }
   ],
   "source": [
    "y_test.shape"
   ]
  },
  {
   "cell_type": "markdown",
   "metadata": {},
   "source": [
    "#### APPLYING BASE MODEL [ KNN] :"
   ]
  },
  {
   "cell_type": "code",
   "execution_count": 178,
   "metadata": {},
   "outputs": [],
   "source": [
    "from sklearn.neighbors import KNeighborsClassifier"
   ]
  },
  {
   "cell_type": "code",
   "execution_count": 179,
   "metadata": {},
   "outputs": [
    {
     "data": {
      "text/plain": [
       "KNeighborsClassifier(algorithm='auto', leaf_size=30, metric='minkowski',\n",
       "                     metric_params=None, n_jobs=None, n_neighbors=5, p=2,\n",
       "                     weights='uniform')"
      ]
     },
     "execution_count": 179,
     "metadata": {},
     "output_type": "execute_result"
    }
   ],
   "source": [
    "knn = KNeighborsClassifier(n_neighbors = 5)\n",
    "knn.fit(X_train, y_train) "
   ]
  },
  {
   "cell_type": "code",
   "execution_count": 180,
   "metadata": {},
   "outputs": [
    {
     "name": "stdout",
     "output_type": "stream",
     "text": [
      "0.9421656920909983\n"
     ]
    }
   ],
   "source": [
    "accuracy = knn.score(X_test, y_test) \n",
    "print(accuracy)"
   ]
  },
  {
   "cell_type": "code",
   "execution_count": 188,
   "metadata": {},
   "outputs": [],
   "source": [
    "y_pred=knn.predict(X_test)"
   ]
  },
  {
   "cell_type": "code",
   "execution_count": 183,
   "metadata": {},
   "outputs": [],
   "source": [
    "from sklearn.metrics import confusion_matrix,classification_report\n"
   ]
  },
  {
   "cell_type": "code",
   "execution_count": 190,
   "metadata": {},
   "outputs": [
    {
     "name": "stdout",
     "output_type": "stream",
     "text": [
      "              precision    recall  f1-score   support\n",
      "\n",
      "         0.0       0.00      0.00      0.00         1\n",
      "         1.0       0.96      1.00      0.98      4850\n",
      "         2.0       0.91      0.96      0.94      4522\n",
      "         3.0       0.95      0.93      0.94      4910\n",
      "         4.0       0.92      0.94      0.93      4354\n",
      "         5.0       0.98      0.88      0.92      4792\n",
      "\n",
      "    accuracy                           0.94     23429\n",
      "   macro avg       0.79      0.79      0.78     23429\n",
      "weighted avg       0.94      0.94      0.94     23429\n",
      "\n"
     ]
    }
   ],
   "source": [
    "print(classification_report(y_test,y_pred))"
   ]
  },
  {
   "cell_type": "markdown",
   "metadata": {},
   "source": [
    "### DECISION TREE :\n"
   ]
  },
  {
   "cell_type": "code",
   "execution_count": 194,
   "metadata": {},
   "outputs": [],
   "source": [
    "from sklearn.tree import DecisionTreeClassifier "
   ]
  },
  {
   "cell_type": "code",
   "execution_count": 195,
   "metadata": {},
   "outputs": [],
   "source": [
    "d_tree=DecisionTreeClassifier()"
   ]
  },
  {
   "cell_type": "code",
   "execution_count": 196,
   "metadata": {},
   "outputs": [
    {
     "data": {
      "text/plain": [
       "DecisionTreeClassifier(class_weight=None, criterion='gini', max_depth=None,\n",
       "                       max_features=None, max_leaf_nodes=None,\n",
       "                       min_impurity_decrease=0.0, min_impurity_split=None,\n",
       "                       min_samples_leaf=1, min_samples_split=2,\n",
       "                       min_weight_fraction_leaf=0.0, presort=False,\n",
       "                       random_state=None, splitter='best')"
      ]
     },
     "execution_count": 196,
     "metadata": {},
     "output_type": "execute_result"
    }
   ],
   "source": [
    "d_tree.fit(X_train,y_train)"
   ]
  },
  {
   "cell_type": "code",
   "execution_count": 197,
   "metadata": {},
   "outputs": [
    {
     "data": {
      "text/plain": [
       "0.9704639549276538"
      ]
     },
     "execution_count": 197,
     "metadata": {},
     "output_type": "execute_result"
    }
   ],
   "source": [
    "d_tree.score(X_test,y_test)"
   ]
  },
  {
   "cell_type": "code",
   "execution_count": 198,
   "metadata": {},
   "outputs": [],
   "source": [
    "y_pred=d_tree.predict(X_test)"
   ]
  },
  {
   "cell_type": "code",
   "execution_count": 199,
   "metadata": {},
   "outputs": [
    {
     "name": "stdout",
     "output_type": "stream",
     "text": [
      "              precision    recall  f1-score   support\n",
      "\n",
      "         0.0       0.00      0.00      0.00         1\n",
      "         1.0       0.99      0.99      0.99      4850\n",
      "         2.0       0.96      0.96      0.96      4522\n",
      "         3.0       0.97      0.98      0.97      4910\n",
      "         4.0       0.97      0.96      0.97      4354\n",
      "         5.0       0.96      0.96      0.96      4792\n",
      "\n",
      "    accuracy                           0.97     23429\n",
      "   macro avg       0.81      0.81      0.81     23429\n",
      "weighted avg       0.97      0.97      0.97     23429\n",
      "\n"
     ]
    },
    {
     "name": "stderr",
     "output_type": "stream",
     "text": [
      "C:\\Users\\admin\\Anaconda3\\lib\\site-packages\\sklearn\\metrics\\classification.py:1437: UndefinedMetricWarning: Precision and F-score are ill-defined and being set to 0.0 in labels with no predicted samples.\n",
      "  'precision', 'predicted', average, warn_for)\n"
     ]
    }
   ],
   "source": [
    "print(classification_report(y_test,y_pred))"
   ]
  },
  {
   "cell_type": "markdown",
   "metadata": {},
   "source": [
    "### NAVIVE BAYES CLASSIFIER :"
   ]
  },
  {
   "cell_type": "code",
   "execution_count": 200,
   "metadata": {},
   "outputs": [],
   "source": [
    "from sklearn.naive_bayes import GaussianNB "
   ]
  },
  {
   "cell_type": "code",
   "execution_count": 201,
   "metadata": {},
   "outputs": [],
   "source": [
    "gnb=GaussianNB()"
   ]
  },
  {
   "cell_type": "code",
   "execution_count": 202,
   "metadata": {},
   "outputs": [
    {
     "data": {
      "text/plain": [
       "GaussianNB(priors=None, var_smoothing=1e-09)"
      ]
     },
     "execution_count": 202,
     "metadata": {},
     "output_type": "execute_result"
    }
   ],
   "source": [
    "gnb.fit(X_train,y_train)"
   ]
  },
  {
   "cell_type": "code",
   "execution_count": 203,
   "metadata": {},
   "outputs": [
    {
     "data": {
      "text/plain": [
       "0.3728712279653421"
      ]
     },
     "execution_count": 203,
     "metadata": {},
     "output_type": "execute_result"
    }
   ],
   "source": [
    "gnb.score(X_test,y_test)"
   ]
  },
  {
   "cell_type": "code",
   "execution_count": 207,
   "metadata": {},
   "outputs": [],
   "source": [
    "y_pred=gnb.predict(X_test)"
   ]
  },
  {
   "cell_type": "code",
   "execution_count": 208,
   "metadata": {},
   "outputs": [
    {
     "name": "stdout",
     "output_type": "stream",
     "text": [
      "              precision    recall  f1-score   support\n",
      "\n",
      "         0.0       0.00      0.00      0.00         1\n",
      "         1.0       0.00      0.00      0.00      4850\n",
      "         2.0       1.00      0.00      0.00      4522\n",
      "         3.0       0.35      1.00      0.51      4910\n",
      "         4.0       0.34      0.15      0.21      4354\n",
      "         5.0       0.44      0.66      0.52      4792\n",
      "\n",
      "    accuracy                           0.37     23429\n",
      "   macro avg       0.35      0.30      0.21     23429\n",
      "weighted avg       0.42      0.37      0.26     23429\n",
      "\n"
     ]
    },
    {
     "name": "stderr",
     "output_type": "stream",
     "text": [
      "C:\\Users\\admin\\Anaconda3\\lib\\site-packages\\sklearn\\metrics\\classification.py:1437: UndefinedMetricWarning: Precision and F-score are ill-defined and being set to 0.0 in labels with no predicted samples.\n",
      "  'precision', 'predicted', average, warn_for)\n"
     ]
    }
   ],
   "source": [
    "print(classification_report(y_test,y_pred))"
   ]
  },
  {
   "cell_type": "markdown",
   "metadata": {},
   "source": [
    "### SVM:"
   ]
  },
  {
   "cell_type": "code",
   "execution_count": null,
   "metadata": {},
   "outputs": [],
   "source": []
  },
  {
   "cell_type": "code",
   "execution_count": null,
   "metadata": {},
   "outputs": [],
   "source": []
  },
  {
   "cell_type": "code",
   "execution_count": null,
   "metadata": {},
   "outputs": [],
   "source": []
  },
  {
   "cell_type": "code",
   "execution_count": null,
   "metadata": {},
   "outputs": [],
   "source": []
  },
  {
   "cell_type": "code",
   "execution_count": null,
   "metadata": {},
   "outputs": [],
   "source": []
  }
 ],
 "metadata": {
  "kernelspec": {
   "display_name": "Python 3",
   "language": "python",
   "name": "python3"
  },
  "language_info": {
   "codemirror_mode": {
    "name": "ipython",
    "version": 3
   },
   "file_extension": ".py",
   "mimetype": "text/x-python",
   "name": "python",
   "nbconvert_exporter": "python",
   "pygments_lexer": "ipython3",
   "version": "3.7.3"
  }
 },
 "nbformat": 4,
 "nbformat_minor": 2
}
